{
 "cells": [
  {
   "cell_type": "markdown",
   "id": "ed4f675d",
   "metadata": {},
   "source": [
    "# Assignment 1: Implementing an MLP using Numpy"
   ]
  },
  {
   "cell_type": "markdown",
   "id": "421c69ef",
   "metadata": {},
   "source": [
    "## Part 2: Scalar backpropagation"
   ]
  },
  {
   "cell_type": "markdown",
   "id": "da66c6a9",
   "metadata": {},
   "source": [
    "## Question 3.\n",
    "Implement the network drawn in the image below, including the weights. Perform one forward pass, up to the loss on the target value, and one backward pass. Show the relevant code in your report. Report the derivatives on all weights (including biases). Do not use anything more than plain python and the math package.\n"
   ]
  },
  {
   "cell_type": "code",
   "execution_count": 1,
   "id": "8b7c2f15",
   "metadata": {},
   "outputs": [],
   "source": [
    "import numpy as np\n",
    "from copy import deepcopy\n",
    "import matplotlib.pyplot as plt\n",
    "from copy import deepcopy\n",
    "import math"
   ]
  },
  {
   "cell_type": "code",
   "execution_count": 2,
   "id": "34e6e86f",
   "metadata": {},
   "outputs": [],
   "source": [
    "# FUNCTION: initialize_parameters\n",
    "\n",
    "def initialize_parameters():\n",
    "    \"\"\"\n",
    "     Initialise weights and biases\n",
    "\n",
    "    Returns:\n",
    "        params -- python dictionary containing your parameters:\n",
    "                    W -- weight matrix of shape (2, 3)\n",
    "                    b -- bias vector of shape (3, 1)\n",
    "                    V -- weight matrix of shape (3, 2)\n",
    "                    c -- bias vector of shape (2, 1)\n",
    "    \"\"\"\n",
    "    W = [\n",
    "        [1., 1., 1.], \n",
    "        [-1., -1., -1.]\n",
    "        ]\n",
    "    V = [\n",
    "        [1, 1],\n",
    "        [-1, -1],\n",
    "        [-1, -1]\n",
    "    ]\n",
    "    b, c = [0, 0, 0], [0, 0]\n",
    "\n",
    "        \n",
    "    parameters = {\"W\": np.array(W),\n",
    "                  \"b\": np.array(b),\n",
    "                  \"V\": np.array(V),\n",
    "                  \"c\": np.array(c)}\n",
    "    \n",
    "    return parameters"
   ]
  },
  {
   "cell_type": "code",
   "execution_count": 3,
   "id": "e9f5d738",
   "metadata": {},
   "outputs": [],
   "source": [
    "# FUNCTION: sigmoid\n",
    "\n",
    "def sigmoid(k):\n",
    "    \"\"\"\n",
    "    Compute the sigmoid of k\n",
    "\n",
    "    Arguments:\n",
    "    k -- A scalar or numpy array of any size.\n",
    "\n",
    "    Return:\n",
    "    s -- sigmoid(k)\n",
    "    \"\"\"\n",
    "    s = 1/(1+(np.exp(-k)))\n",
    "    return s\n",
    "# # Example usage\n",
    "# z = 2.0\n",
    "# sigmoid_output = sigmoid(z)\n",
    "\n",
    "# print(\"Input (z):\", z)\n",
    "# print(\"Sigmoid Output:\", sigmoid_output)"
   ]
  },
  {
   "cell_type": "code",
   "execution_count": 4,
   "id": "9306af6a",
   "metadata": {},
   "outputs": [],
   "source": [
    "# FUNCTION: softmax\n",
    "\n",
    "def softmax(h):\n",
    "    \"\"\"\n",
    "    Compute the softmax of h\n",
    "\n",
    "    Arguments:\n",
    "    h -- A scalar or numpy array of any size.\n",
    "\n",
    "    Return:\n",
    "    softmax_probs -- softmax(h)\n",
    "    \"\"\"\n",
    "    # Ensure numerical stability by subtracting the maximum logit\n",
    "    max_h = np.max(h)\n",
    "    exp_hs = np.exp(h - max_h)\n",
    "    \n",
    "    # Calculate softmax probabilities\n",
    "    softmax_probs = exp_hs / np.sum(exp_hs, axis=0)\n",
    "    \n",
    "    return softmax_probs\n",
    "\n",
    "# # Example usage\n",
    "# logits = [2.0, 1.0, 0.1]\n",
    "# softmax_output = softmax(logits)\n",
    "\n",
    "# print(\"Logits:\", logits)\n",
    "# print(\"Softmax Output:\", softmax_output)\n",
    "# print(\"Sum of Softmax Probabilities:\", np.sum(softmax_output))\n"
   ]
  },
  {
   "cell_type": "code",
   "execution_count": 6,
   "id": "04045ed5",
   "metadata": {},
   "outputs": [],
   "source": [
    "# FUNCTION: forward_propagation\n",
    "\n",
    "def forward_propagation(X, parameters):\n",
    "    \"\"\"\n",
    "    Argument:\n",
    "    X -- input data of size (n_x, m)\n",
    "    parameters -- python dictionary containing parameters (output of initialization function)\n",
    "    \n",
    "    Returns:\n",
    "    h -- The sigmoid output of the second activation\n",
    "    cache -- a dictionary containing \"k\", \"h\", \"o\", \"y\"\n",
    "    \"\"\"\n",
    "    # Retrieve each parameter from the dictionary \"parameters\"\n",
    "    W = parameters[\"W\"]\n",
    "    b = parameters[\"b\"]\n",
    "    V = parameters[\"V\"]\n",
    "    c = parameters[\"c\"]\n",
    "    \n",
    "    # Implement Forward Propagation to calculate o (probabilities)    \n",
    "    k = np.array([sum(W[i][j] * X[i] + b[j] for i in range(2)) for j in range(3)])\n",
    "    h = np.array([sigmoid(k[i]) for i in range(3)])\n",
    "    o = np.array([sum(V[i][j] * h[i] + c[j] for i in range(3)) for j in range(2)])\n",
    "    y = np.array(softmax(o))\n",
    "    \n",
    "    cache = {\"k\": k,\n",
    "             \"h\": h,\n",
    "             \"o\": o,\n",
    "             \"y\": y}\n",
    "    \n",
    "    return y, cache"
   ]
  },
  {
   "cell_type": "code",
   "execution_count": 12,
   "id": "96dcd773",
   "metadata": {},
   "outputs": [
    {
     "data": {
      "text/plain": [
       "(array([0.5, 0.5]),\n",
       " {'k': array([2., 2., 2.]),\n",
       "  'h': array([0.88079708, 0.88079708, 0.88079708]),\n",
       "  'o': array([-0.88079708, -0.88079708]),\n",
       "  'y': array([0.5, 0.5])})"
      ]
     },
     "execution_count": 12,
     "metadata": {},
     "output_type": "execute_result"
    }
   ],
   "source": [
    "X = [1,-1]\n",
    "parameters = initialize_parameters()\n",
    "forward_propagation(X, parameters)"
   ]
  },
  {
   "cell_type": "code",
   "execution_count": 15,
   "id": "b97218f0",
   "metadata": {},
   "outputs": [
    {
     "data": {
      "text/plain": [
       "{'k': array([2., 2., 2.]),\n",
       " 'h': array([0.88079708, 0.88079708, 0.88079708]),\n",
       " 'o': array([-0.88079708, -0.88079708]),\n",
       " 'y': array([0.5, 0.5])}"
      ]
     },
     "execution_count": 15,
     "metadata": {},
     "output_type": "execute_result"
    }
   ],
   "source": [
    "Y = [1, 0]\n",
    "y, cache = forward_propagation(X, parameters)\n",
    "# compute_cost(y, Y, parameters)\n",
    "cache"
   ]
  },
  {
   "cell_type": "code",
   "execution_count": 9,
   "id": "e0d8c1b4",
   "metadata": {},
   "outputs": [],
   "source": [
    "# FUNCTION: backward_propagation\n",
    "\n",
    "def backward_propagation(parameters, cache, X, Y): #, update\n",
    "    \"\"\"\n",
    "    Implement the backward propagation using the instructions above.\n",
    "    \n",
    "    Arguments:\n",
    "    parameters -- python dictionary containing our parameters \n",
    "    cache -- a dictionary containing \"k\", \"h\", \"o\", \"y\".\n",
    "    X -- input data of shape (2, 1)\n",
    "    Y -- \"true\" labels vector of shape (2, 1)\n",
    "    \n",
    "    Returns:\n",
    "    grads -- python dictionary containing your gradients with respect to different parameters\n",
    "    \"\"\"\n",
    "    # initilize all the gradient\n",
    "    m = np.array(X).shape[0]\n",
    "    grad_b = np.zeros(m)  \n",
    "    grad_w = np.zeros((m, 3))\n",
    "    grad_k = np.zeros(3)\n",
    "    grad_h = np.zeros(3)\n",
    "    grad_c = np.zeros(2)  \n",
    "    grad_v = np.zeros((3, 2))\n",
    "    grad_o = np.zeros(2)\n",
    "    grad_y = np.zeros(2)\n",
    "    \n",
    "    indices = [i for i in range(len(X)) if X[i] == Y[i]][0]\n",
    "\n",
    "    \n",
    "    # First, retrieve W and V from the dictionary \"parameters\".\n",
    "    W = parameters[\"W\"]\n",
    "    V = parameters[\"V\"]\n",
    "        \n",
    "    # Retrieve also k, h, o and y from dictionary \"cache\".\n",
    "    k = cache[\"k\"]\n",
    "    h = cache[\"h\"]\n",
    "    o = cache[\"o\"]\n",
    "    y = cache[\"y\"]\n",
    "    \n",
    "    l = -math.log(y[indices])\n",
    "#     l = compute_cost(y, Y, parameters)\n",
    "    \n",
    "    # Backward propagation: calculate dw, db, dv, dc. \n",
    "    for i in range(2):\n",
    "        grad_y = np.where(np.arange(2) == indices, -1 / y[indices], 0)\n",
    "    for j in range(2):\n",
    "        grad_o = np.where(np.arange(2) == indices, y - 1, y)\n",
    "    \n",
    "    for j in range(2):\n",
    "        grad_v[:, j] = grad_o[j] * h\n",
    "        grad_h += grad_o[j] * V[:, j]\n",
    "        grad_c[j] = grad_o[j]    \n",
    "    grad_k = grad_h * h * (1 - h)\n",
    "    \n",
    "    for j in range(3):\n",
    "        grad_w[:, j] = np.dot(grad_k[j], X)\n",
    "    grad_b = grad_k\n",
    "    \n",
    "    grads_and_loss = {\"grad_w\": grad_w,\n",
    "             \"grad_b\": grad_b,\n",
    "             \"grad_v\": grad_v,\n",
    "             \"grad_c\": grad_c,\n",
    "             \"loss\": l}\n",
    "    \n",
    "    return grads_and_loss"
   ]
  },
  {
   "cell_type": "code",
   "execution_count": 10,
   "id": "b2719b80",
   "metadata": {},
   "outputs": [],
   "source": [
    "def update(grad_w,grad_b,grad_v,grad_c):\n",
    "    \"\"\"\n",
    "    update grads by learning rate\n",
    "    \"\"\"\n",
    "    \n",
    "    return grad_w,grad_b,grad_v,grad_c"
   ]
  },
  {
   "cell_type": "code",
   "execution_count": 16,
   "id": "cd3f51f1",
   "metadata": {},
   "outputs": [
    {
     "data": {
      "text/plain": [
       "{'grad_w': array([[0., 0., 0.],\n",
       "        [0., 0., 0.]]),\n",
       " 'grad_b': array([0., 0., 0.]),\n",
       " 'grad_v': array([[-0.44039854,  0.44039854],\n",
       "        [-0.44039854,  0.44039854],\n",
       "        [-0.44039854,  0.44039854]]),\n",
       " 'grad_c': array([-0.5,  0.5]),\n",
       " 'loss': 0.6931471805599453}"
      ]
     },
     "execution_count": 16,
     "metadata": {},
     "output_type": "execute_result"
    }
   ],
   "source": [
    "X = [1, -1]\n",
    "Y = [1, 0]\n",
    "# indices = [i for i in range(len(X)) if X[i] == Y[i]][0]\n",
    "\n",
    "parameters = initialize_parameters()\n",
    "y, cache = forward_propagation(X, parameters)\n",
    "backward_propagation(parameters, cache, X, Y)"
   ]
  },
  {
   "cell_type": "markdown",
   "id": "f7f5905a",
   "metadata": {},
   "source": [
    "## Data Loader"
   ]
  },
  {
   "cell_type": "code",
   "execution_count": 17,
   "id": "1c7efd34",
   "metadata": {},
   "outputs": [],
   "source": [
    "# -- assignment 1 --\n",
    "import numpy as np\n",
    "from urllib import request\n",
    "import gzip\n",
    "import pickle\n",
    "import os\n",
    "\n",
    "def load_synth(num_train=60_000, num_val=10_000, seed=0):\n",
    "    \"\"\"\n",
    "    Load some very basic synthetic data that should be easy to classify. Two features, so that we can plot the\n",
    "    decision boundary (which is an ellipse in the feature space).\n",
    "\n",
    "    :param num_train: Number of training instances\n",
    "    :param num_val: Number of test/validation instances\n",
    "    :param num_features: Number of features per instance\n",
    "\n",
    "    :return: Two tuples and an integer: (xtrain, ytrain), (xval, yval), num_cls. The first contains a matrix of training\n",
    "     data with 2 features as a numpy floating point array, and the corresponding classification labels as a numpy\n",
    "     integer array. The second contains the test/validation data in the same format. The last integer contains the\n",
    "     number of classes (this is always 2 for this function).\n",
    "    \"\"\"\n",
    "    np.random.seed(seed)\n",
    "\n",
    "    THRESHOLD = 0.6\n",
    "    quad = np.asarray([[1, -0.05], [1, .4]])\n",
    "\n",
    "    ntotal = num_train + num_val\n",
    "\n",
    "    x = np.random.randn(ntotal, 2)\n",
    "\n",
    "    # compute the quadratic form\n",
    "    q = np.einsum('bf, fk, bk -> b', x, quad, x)\n",
    "    y = (q > THRESHOLD).astype(np.int)\n",
    "\n",
    "    return (x[:num_train, :], y[:num_train]), (x[num_train:, :], y[num_train:]), 2\n",
    "\n",
    "def load_mnist(final=False, flatten=True):\n",
    "    \"\"\"\n",
    "    Load the MNIST data.\n",
    "\n",
    "    :param final: If true, return the canonical test/train split. If false, split some validation data from the training\n",
    "       data and keep the test data hidden.\n",
    "    :param flatten: If true, each instance is flattened into a vector, so that the data is returns as a matrix with 768\n",
    "        columns. If false, the data is returned as a 3-tensor preserving each image as a matrix.\n",
    "\n",
    "    :return: Two tuples and an integer: (xtrain, ytrain), (xval, yval), num_cls. The first contains a matrix of training\n",
    "     data and the corresponding classification labels as a numpy integer array. The second contains the test/validation\n",
    "     data in the same format. The last integer contains the number of classes (this is always 2 for this function).\n",
    "\n",
    "     \"\"\"\n",
    "\n",
    "    if not os.path.isfile('mnist.pkl'):\n",
    "        init()\n",
    "\n",
    "    xtrain, ytrain, xtest, ytest = load()\n",
    "    xtl, xsl = xtrain.shape[0], xtest.shape[0]\n",
    "\n",
    "    if flatten:\n",
    "        xtrain = xtrain.reshape(xtl, -1)\n",
    "        xtest  = xtest.reshape(xsl, -1)\n",
    "\n",
    "    if not final: # return the flattened images\n",
    "        return (xtrain[:-5000], ytrain[:-5000]), (xtrain[-5000:], ytrain[-5000:]), 10\n",
    "\n",
    "    return (xtrain, ytrain), (xtest, ytest), 10\n",
    "\n",
    "# Numpy-only MNIST loader. Courtesy of Hyeonseok Jung\n",
    "# https://github.com/hsjeong5/MNIST-for-Numpy\n",
    "\n",
    "filename = [\n",
    "[\"training_images\",\"train-images-idx3-ubyte.gz\"],\n",
    "[\"test_images\",\"t10k-images-idx3-ubyte.gz\"],\n",
    "[\"training_labels\",\"train-labels-idx1-ubyte.gz\"],\n",
    "[\"test_labels\",\"t10k-labels-idx1-ubyte.gz\"]\n",
    "]\n",
    "\n",
    "def download_mnist():\n",
    "    base_url = \"http://yann.lecun.com/exdb/mnist/\"\n",
    "    for name in filename:\n",
    "        print(\"Downloading \"+name[1]+\"...\")\n",
    "        request.urlretrieve(base_url+name[1], name[1])\n",
    "    print(\"Download complete.\")\n",
    "\n",
    "def save_mnist():\n",
    "    mnist = {}\n",
    "    for name in filename[:2]:\n",
    "        with gzip.open(name[1], 'rb') as f:\n",
    "            mnist[name[0]] = np.frombuffer(f.read(), np.uint8, offset=16).reshape(-1,28*28)\n",
    "    for name in filename[-2:]:\n",
    "        with gzip.open(name[1], 'rb') as f:\n",
    "            mnist[name[0]] = np.frombuffer(f.read(), np.uint8, offset=8)\n",
    "    with open(\"mnist.pkl\", 'wb') as f:\n",
    "        pickle.dump(mnist,f)\n",
    "    print(\"Save complete.\")\n",
    "\n",
    "def init():\n",
    "    download_mnist()\n",
    "    save_mnist()\n",
    "\n",
    "def load():\n",
    "    with open(\"mnist.pkl\",'rb') as f:\n",
    "        mnist = pickle.load(f)\n",
    "    return mnist[\"training_images\"], mnist[\"training_labels\"], mnist[\"test_images\"], mnist[\"test_labels\"]"
   ]
  },
  {
   "cell_type": "markdown",
   "id": "4a40afb5",
   "metadata": {},
   "source": [
    "## Question 4. Implement a training loop for your network and show that the training loss drops as training progresses.\n",
    "Make sure to print some of the data before you start, so see the range of values it gives you. If the values are not in a controlled range like [0, 1] or [-1, 1], you should normalize them first."
   ]
  },
  {
   "cell_type": "code",
   "execution_count": 18,
   "id": "503d6f19",
   "metadata": {},
   "outputs": [],
   "source": [
    "def update(parameters, grads, learning_rate):\n",
    "    \"\"\"\n",
    "    Implement the update grads with learning rate using the instructions above.\n",
    "    \n",
    "    Arguments:\n",
    "    parameters -- a dictionary containing all parameters\n",
    "    grads -- a dictionary containing \"k\", \"h\", \"o\", \"y\".\n",
    "    learning_rate -- the steps for updating weights\n",
    "    \n",
    "    Returns:\n",
    "    new_parameters -- python dictionary containing new parameters after updating\n",
    "    \"\"\"\n",
    "    \n",
    "    # First, retrieve W and V from the dictionary \"parameters\".\n",
    "    w = parameters[\"W\"]\n",
    "    b = parameters[\"b\"]\n",
    "    v = parameters[\"V\"]\n",
    "    c = parameters[\"c\"]\n",
    "    \n",
    "    # First, retrieve W and V from the dictionary \"grads\".\n",
    "    grad_w = grads[\"grad_w\"]\n",
    "    grad_b = grads[\"grad_b\"]\n",
    "    grad_v = grads[\"grad_v\"]\n",
    "    grad_c = grads[\"grad_c\"]\n",
    "    \n",
    "\n",
    "    for j in range(3):\n",
    "        for i in range(2):\n",
    "            w[i][j] = w[i][j] - learning_rate* grad_w[i][j]\n",
    "        b[j] = b[j] - learning_rate * grad_b[j]\n",
    "    for j in range(2):\n",
    "        for i in range(3):\n",
    "            v[i][j] = v[i][j] - learning_rate* grad_v[i][j]\n",
    "        c[j] = c[j] - learning_rate * grad_c[j]\n",
    "        \n",
    "    \n",
    "    new_parameters = {\"W\": w,\n",
    "                      \"b\": b,\n",
    "                      \"V\": v,\n",
    "                      \"c\": c}\n",
    "    \n",
    "    return new_parameters"
   ]
  },
  {
   "cell_type": "code",
   "execution_count": 19,
   "id": "a85fe8e1",
   "metadata": {},
   "outputs": [
    {
     "name": "stdout",
     "output_type": "stream",
     "text": [
      "[0.6931471805599453, 0.06877095666366156, 0.06876803547749266, 0.06876511515187224, 0.06876219568641925, 0.06875927708075312, 0.06875635933449244, 0.06875344244725712, 0.06875052641866732, 0.06874761124834249]\n"
     ]
    }
   ],
   "source": [
    "X = [1, -1]\n",
    "Y = [1, 0]\n",
    "learning_rate = 0.01\n",
    "training_loop = 10\n",
    "loss = []\n",
    "\n",
    "parameters = initialize_parameters()\n",
    "for i in range(training_loop):\n",
    "    y, cache = forward_propagation(X, parameters)\n",
    "    grads = backward_propagation(parameters, cache, X, Y)\n",
    "    parameters = update(parameters, grads,learning_rate)\n",
    "#     grads, parameters\n",
    "    loss.append(grads[\"loss\"])\n",
    "print(loss)"
   ]
  },
  {
   "cell_type": "code",
   "execution_count": 20,
   "id": "908a9921",
   "metadata": {},
   "outputs": [
    {
     "data": {
      "image/png": "[encoded data removed]",
      "text/plain": [
       "<Figure size 640x480 with 1 Axes>"
      ]
     },
     "metadata": {},
     "output_type": "display_data"
    }
   ],
   "source": [
    "# Create a range of indices for x-axis\n",
    "x_values = list(range(len(loss)))\n",
    "\n",
    "# Plot the data\n",
    "plt.plot(x_values, loss, marker='o', linestyle='-')\n",
    "\n",
    "# Add labels and title\n",
    "plt.xlabel('Loop')\n",
    "plt.ylabel('Loss')\n",
    "plt.title('Loss plot')\n",
    "\n",
    "# Display the plot\n",
    "plt.show()"
   ]
  },
  {
   "cell_type": "code",
   "execution_count": null,
   "id": "f9eee054",
   "metadata": {},
   "outputs": [],
   "source": []
  },
  {
   "cell_type": "code",
   "execution_count": null,
   "id": "72509191",
   "metadata": {},
   "outputs": [],
   "source": []
  },
  {
   "cell_type": "code",
   "execution_count": null,
   "id": "66be15ca",
   "metadata": {},
   "outputs": [],
   "source": []
  }
 ],
 "metadata": {
  "kernelspec": {
   "display_name": "Python 3 (ipykernel)",
   "language": "python",
   "name": "python3"
  },
  "language_info": {
   "codemirror_mode": {
    "name": "ipython",
    "version": 3
   },
   "file_extension": ".py",
   "mimetype": "text/x-python",
   "name": "python",
   "nbconvert_exporter": "python",
   "pygments_lexer": "ipython3",
   "version": "3.9.13"
  }
 },
 "nbformat": 4,
 "nbformat_minor": 5
}
