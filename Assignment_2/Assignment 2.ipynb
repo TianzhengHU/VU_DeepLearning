{
 "cells": [
  {
   "cell_type": "markdown",
   "id": "7026760b",
   "metadata": {},
   "source": [
    "# Assignment 2: Automatic differentiation"
   ]
  },
  {
   "cell_type": "markdown",
   "id": "2ae222b8",
   "metadata": {},
   "source": [
    "## Part 2: Backpropagation\n",
    "\n",
    "## Question 5:\n",
    "\n",
    "Recreate the computation graph above: create two tensor nodes a and b containing numpy arrays of the same size, and sum them (using the + operator) to create a TensorNode c. Answer the following questions (in words, tell us what these class members mean, don't just copy/paste their values)."
   ]
  },
  {
   "cell_type": "code",
   "execution_count": 1,
   "id": "4a9b5ad2",
   "metadata": {},
   "outputs": [],
   "source": [
    "import vugrad as vg\n",
    "import numpy as np"
   ]
  },
  {
   "cell_type": "code",
   "execution_count": 2,
   "id": "b5a5e7ef",
   "metadata": {},
   "outputs": [],
   "source": [
    "a = vg.TensorNode(np.random.randn(2, 2))\n",
    "b = vg.TensorNode(np.random.randn(2, 2))"
   ]
  },
  {
   "cell_type": "code",
   "execution_count": 3,
   "id": "ad83ca2d",
   "metadata": {},
   "outputs": [
    {
     "data": {
      "text/plain": [
       "<vugrad.core.TensorNode at 0x7ff3d053cb20>"
      ]
     },
     "execution_count": 3,
     "metadata": {},
     "output_type": "execute_result"
    }
   ],
   "source": [
    "a"
   ]
  },
  {
   "cell_type": "code",
   "execution_count": null,
   "id": "8bbe6d7a",
   "metadata": {},
   "outputs": [],
   "source": []
  },
  {
   "cell_type": "code",
   "execution_count": null,
   "id": "c90213e9",
   "metadata": {},
   "outputs": [],
   "source": []
  },
  {
   "cell_type": "code",
   "execution_count": null,
   "id": "c8c2c752",
   "metadata": {},
   "outputs": [],
   "source": []
  },
  {
   "cell_type": "code",
   "execution_count": null,
   "id": "32ee54ec",
   "metadata": {},
   "outputs": [],
   "source": []
  },
  {
   "cell_type": "code",
   "execution_count": null,
   "id": "fe4d4a21",
   "metadata": {},
   "outputs": [],
   "source": []
  },
  {
   "cell_type": "code",
   "execution_count": null,
   "id": "69955cd0",
   "metadata": {},
   "outputs": [],
   "source": []
  },
  {
   "cell_type": "code",
   "execution_count": null,
   "id": "5577cefd",
   "metadata": {},
   "outputs": [],
   "source": []
  },
  {
   "cell_type": "code",
   "execution_count": null,
   "id": "b1dade39",
   "metadata": {},
   "outputs": [],
   "source": []
  },
  {
   "cell_type": "code",
   "execution_count": null,
   "id": "ac7eb1dd",
   "metadata": {},
   "outputs": [],
   "source": []
  },
  {
   "cell_type": "code",
   "execution_count": null,
   "id": "4226cd8f",
   "metadata": {},
   "outputs": [],
   "source": []
  },
  {
   "cell_type": "code",
   "execution_count": null,
   "id": "76b730cf",
   "metadata": {},
   "outputs": [],
   "source": []
  }
 ],
 "metadata": {
  "kernelspec": {
   "display_name": "Python 3 (ipykernel)",
   "language": "python",
   "name": "python3"
  },
  "language_info": {
   "codemirror_mode": {
    "name": "ipython",
    "version": 3
   },
   "file_extension": ".py",
   "mimetype": "text/x-python",
   "name": "python",
   "nbconvert_exporter": "python",
   "pygments_lexer": "ipython3",
   "version": "3.9.13"
  }
 },
 "nbformat": 4,
 "nbformat_minor": 5
}
