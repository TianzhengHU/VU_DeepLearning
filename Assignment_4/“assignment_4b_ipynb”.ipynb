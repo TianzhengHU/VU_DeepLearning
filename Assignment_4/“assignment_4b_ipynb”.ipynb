{
  "nbformat": 4,
  "nbformat_minor": 0,
  "metadata": {
    "colab": {
      "provenance": [],
      "toc_visible": true
    },
    "kernelspec": {
      "name": "python3",
      "display_name": "Python 3"
    },
    "accelerator": "GPU"
  },
  "cells": [
    {
      "cell_type": "markdown",
      "metadata": {
        "id": "aJ_pmgxvGur9"
      },
      "source": [
        "# Assignment 4b - Graph Convolutional Networks\n",
        "## Deep Learning Course - Vrije Universiteit Amsterdam, 2022"
      ]
    },
    {
      "cell_type": "markdown",
      "metadata": {
        "id": "mEneMITS2agU"
      },
      "source": [
        "#### Instructions on how to use this notebook:\n",
        "\n",
        "This notebook is hosted on Google Colab. To be able to work on it, you have to create your own copy. Go to *File* and select *Save a copy in Drive*.\n",
        "\n",
        "You can also avoid using Colab entirely, and download the notebook to run it on your own machine. If you choose this, go to *File* and select *Download .ipynb*.\n",
        "\n",
        "The advantage of using Colab is that you can use a GPU. You can complete this assignment with a CPU, but it will take a bit longer. Furthermore, we encourage you to train using the GPU not only for faster training, but also to get experience with this setting. This includes moving models and tensors to the GPU and back. This experience is very valuable because for many interesting models and large datasets (like large CNNs for ImageNet, or Transformer models trained on Wikipedia), training on GPU is the only feasible way.\n",
        "\n",
        "The default Colab runtime does not have a GPU. To change this, go to *Runtime - Change runtime type*, and select *GPU* as the hardware accelerator. The GPU that you get changes according to what resources are available at the time, and its memory can go from a 5GB, to around 18GB if you are lucky. If you are curious, you can run the following in a code cell to check:\n",
        "\n",
        "```sh\n",
        "!nvidia-smi\n",
        "```\n",
        "\n",
        "Note that despite the name, Google Colab does  not support collaborative work without issues. When two or more people edit the notebook concurrently, only one version will be saved. You can choose to do group programming with one person sharing the screen with the others, or make multiple copies of the notebook to work concurrently.\n",
        "\n",
        "**Submission:** Upload your notebook in .ipynb format to Canvas. The code and answers to the questions in the notebook are sufficient, no separate report is expected."
      ]
    },
    {
      "cell_type": "code",
      "metadata": {
        "id": "lBgoJIpdLI2Y",
        "colab": {
          "base_uri": "https://localhost:8080/"
        },
        "outputId": "4525910c-4540-4d89-e955-d85aee20c032"
      },
      "source": [
        "!nvidia-smi"
      ],
      "execution_count": null,
      "outputs": [
        {
          "output_type": "stream",
          "name": "stdout",
          "text": [
            "Mon Dec  4 16:38:26 2023       \n",
            "+-----------------------------------------------------------------------------+\n",
            "| NVIDIA-SMI 525.105.17   Driver Version: 525.105.17   CUDA Version: 12.0     |\n",
            "|-------------------------------+----------------------+----------------------+\n",
            "| GPU  Name        Persistence-M| Bus-Id        Disp.A | Volatile Uncorr. ECC |\n",
            "| Fan  Temp  Perf  Pwr:Usage/Cap|         Memory-Usage | GPU-Util  Compute M. |\n",
            "|                               |                      |               MIG M. |\n",
            "|===============================+======================+======================|\n",
            "|   0  Tesla T4            Off  | 00000000:00:04.0 Off |                    0 |\n",
            "| N/A   48C    P8    10W /  70W |      0MiB / 15360MiB |      0%      Default |\n",
            "|                               |                      |                  N/A |\n",
            "+-------------------------------+----------------------+----------------------+\n",
            "                                                                               \n",
            "+-----------------------------------------------------------------------------+\n",
            "| Processes:                                                                  |\n",
            "|  GPU   GI   CI        PID   Type   Process name                  GPU Memory |\n",
            "|        ID   ID                                                   Usage      |\n",
            "|=============================================================================|\n",
            "|  No running processes found                                                 |\n",
            "+-----------------------------------------------------------------------------+\n"
          ]
        }
      ]
    },
    {
      "cell_type": "markdown",
      "metadata": {
        "id": "tsdc7fDp40rQ"
      },
      "source": [
        "### Introduction\n",
        "\n",
        "Graphs are very useful data structures that allow us to represent sets of entities and the way they are related among each other. In a graph, entities are also known as *nodes*, and any link between entities is also called an *edge*.\n",
        "\n",
        "Examples of real world objects that can be modeled as graphs are social networks, where entities are people and relations denote friendship; and molecules, where entities are atoms and relations indicate a bond between them.\n",
        "\n",
        "There has been increased interest in the recent years in the application of deep learning architectures to graph-structured data, for tasks like predicting missing relations between entities, classifying entities, and classifying graphs. This interest has been spurred by the introduction of Graph Convolutional Networks (GCNs).\n",
        "\n",
        "In this assignment, you will implement and experiment with one of the first versions of the GCN, proposed by Thomas Kipf and Max Welling in their 2017 paper, [Semi-supervised Classification with Graph Convolutional Networks](https://arxiv.org/abs/1609.02907). In particular, the goals of this assignment are to\n",
        "\n",
        "- Understand how GCNs are formulated\n",
        "- Implement the GCN using PyTorch\n",
        "- Train and evaluate a model for semi-supervised node classification in citation networks\n",
        "- Train and evaluate a model for binary classification of molecules"
      ]
    },
    {
      "cell_type": "markdown",
      "metadata": {
        "id": "RvsuVNczG6pP"
      },
      "source": [
        "### Representing graphs\n",
        "\n",
        "Suppose we have the following graph:\n",
        "\n",
        "<img src=\"https://raw.githubusercontent.com/dfdazac/dlvu-a5/main/img/01-graph.png\" width=\"200\">\n",
        "\n",
        "This is an undirected graph (since the edges have no specified direction) with 4 nodes. One way to represent the connectivity structure of the graph is by means of the **adjacency matrix**. The $i$-th row of the matrix contains a 1 in the $j$-th column, if nodes $i$ and $j$ are connected. For an undirected graph like the one above, this means that the adjacency matrix\n",
        "\n",
        "- Is symmetric (e.g. an edge between 0 and 2 is equivalent as an edge between 2 and 0)\n",
        "- Is square, of size $n\\times n$ where $n$ is the number of nodes\n",
        "\n",
        "The adjacency matrix for the graph above is then the following:\n",
        "\n",
        "$$\n",
        "A =\n",
        "\\begin{bmatrix}\n",
        "0 & 0 & 1 & 0 \\\\\n",
        "0 & 0 & 1 & 0 \\\\\n",
        "1 & 1 & 0 & 1 \\\\\n",
        "0 & 0 & 1 & 0\n",
        "\\end{bmatrix}\n",
        "$$\n",
        "\n",
        "A second matrix of interest is the **degree matrix**. This is a diagonal matrix where the $i$-th element of the diagonal indicates the number of edges connected to node $i$. Note that these can be obtained from $A$ by summing across the columns, or the rows. For our example, the degree matrix is\n",
        "\n",
        "$$\n",
        "D = \\begin{bmatrix}\n",
        "1 & 0 & 0 & 0 \\\\\n",
        "0 & 1 & 0 & 0 \\\\\n",
        "0 & 0 & 3 & 0 \\\\\n",
        "0 & 0 & 0 & 1\n",
        "\\end{bmatrix}\n",
        "$$\n",
        "\n",
        "For specific applications, each node in the graph will have an associated vector of features $x\\in\\mathbb{R}^c$. If our graph is a social network, then the vector of features can contain information like age, location, and musical tastes, in a specific numeric format. In the case of a molecule, the node could represent an atom and have features like the atomic mass, etc. We can lay out the features in a matrix $X\\in\\mathbb{R}^{n\\times c}$, so that the feature vector for node $i$ is in the $i$-th row."
      ]
    },
    {
      "cell_type": "markdown",
      "metadata": {
        "id": "zCEQ2ffzHCf2"
      },
      "source": [
        "### Loading a citation network\n",
        "\n",
        "To move to a real world example, we will start with the Cora dataset. This dataset represents a citation network, where nodes are scientific publications, edges denote citations between them, and features are a [bag-of-words](https://en.wikipedia.org/wiki/Bag-of-words_model) extracted from their contents.\n",
        "\n",
        "This graph contains labels for nodes, that represent a specific topic. We will use these for a node classification task.\n",
        "\n",
        "To easily load it, we will use [PyTorch Geometric](https://pytorch-geometric.readthedocs.io/en/latest/index.html) (PyG), a deep learning library for graph-structured data."
      ]
    },
    {
      "cell_type": "code",
      "metadata": {
        "id": "Yd2bTEBADt-a",
        "colab": {
          "base_uri": "https://localhost:8080/"
        },
        "outputId": "a0c57178-7314-453b-fd02-6c381dfbdb5a"
      },
      "source": [
        "# Install PyTorch Geometric\n",
        "import torch\n",
        "try:\n",
        "    import torch_geometric\n",
        "except ModuleNotFoundError:\n",
        "    # Installing torch geometric packages with specific CUDA+PyTorch version.\n",
        "    # See https://pytorch-geometric.readthedocs.io/en/latest/notes/installation.html for details\n",
        "    TORCH = torch.__version__.split('+')[0]\n",
        "    CUDA = 'cu' + torch.version.cuda.replace('.','')\n",
        "\n",
        "    !pip install torch-scatter     -f https://pytorch-geometric.com/whl/torch-{TORCH}+{CUDA}.html\n",
        "    !pip install torch-sparse      -f https://pytorch-geometric.com/whl/torch-{TORCH}+{CUDA}.html\n",
        "    !pip install torch-geometric\n",
        "    import torch_geometric"
      ],
      "execution_count": null,
      "outputs": [
        {
          "output_type": "stream",
          "name": "stdout",
          "text": [
            "Looking in links: https://pytorch-geometric.com/whl/torch-2.1.0+cu121.html\n",
            "Collecting torch-scatter\n",
            "  Downloading https://data.pyg.org/whl/torch-2.1.0%2Bcu121/torch_scatter-2.1.2%2Bpt21cu121-cp310-cp310-linux_x86_64.whl (10.8 MB)\n",
            "\u001b[2K     \u001b[90m━━━━━━━━━━━━━━━━━━━━━━━━━━━━━━━━━━━━━━━━\u001b[0m \u001b[32m10.8/10.8 MB\u001b[0m \u001b[31m61.0 MB/s\u001b[0m eta \u001b[36m0:00:00\u001b[0m\n",
            "\u001b[?25hInstalling collected packages: torch-scatter\n",
            "Successfully installed torch-scatter-2.1.2+pt21cu121\n",
            "Looking in links: https://pytorch-geometric.com/whl/torch-2.1.0+cu121.html\n",
            "Collecting torch-sparse\n",
            "  Downloading https://data.pyg.org/whl/torch-2.1.0%2Bcu121/torch_sparse-0.6.18%2Bpt21cu121-cp310-cp310-linux_x86_64.whl (5.0 MB)\n",
            "\u001b[2K     \u001b[90m━━━━━━━━━━━━━━━━━━━━━━━━━━━━━━━━━━━━━━━━\u001b[0m \u001b[32m5.0/5.0 MB\u001b[0m \u001b[31m34.5 MB/s\u001b[0m eta \u001b[36m0:00:00\u001b[0m\n",
            "\u001b[?25hRequirement already satisfied: scipy in /usr/local/lib/python3.10/dist-packages (from torch-sparse) (1.11.4)\n",
            "Requirement already satisfied: numpy<1.28.0,>=1.21.6 in /usr/local/lib/python3.10/dist-packages (from scipy->torch-sparse) (1.23.5)\n",
            "Installing collected packages: torch-sparse\n",
            "Successfully installed torch-sparse-0.6.18+pt21cu121\n",
            "Collecting torch-geometric\n",
            "  Downloading torch_geometric-2.4.0-py3-none-any.whl (1.0 MB)\n",
            "\u001b[2K     \u001b[90m━━━━━━━━━━━━━━━━━━━━━━━━━━━━━━━━━━━━━━━━\u001b[0m \u001b[32m1.0/1.0 MB\u001b[0m \u001b[31m7.1 MB/s\u001b[0m eta \u001b[36m0:00:00\u001b[0m\n",
            "\u001b[?25hRequirement already satisfied: tqdm in /usr/local/lib/python3.10/dist-packages (from torch-geometric) (4.66.1)\n",
            "Requirement already satisfied: numpy in /usr/local/lib/python3.10/dist-packages (from torch-geometric) (1.23.5)\n",
            "Requirement already satisfied: scipy in /usr/local/lib/python3.10/dist-packages (from torch-geometric) (1.11.4)\n",
            "Requirement already satisfied: jinja2 in /usr/local/lib/python3.10/dist-packages (from torch-geometric) (3.1.2)\n",
            "Requirement already satisfied: requests in /usr/local/lib/python3.10/dist-packages (from torch-geometric) (2.31.0)\n",
            "Requirement already satisfied: pyparsing in /usr/local/lib/python3.10/dist-packages (from torch-geometric) (3.1.1)\n",
            "Requirement already satisfied: scikit-learn in /usr/local/lib/python3.10/dist-packages (from torch-geometric) (1.2.2)\n",
            "Requirement already satisfied: psutil>=5.8.0 in /usr/local/lib/python3.10/dist-packages (from torch-geometric) (5.9.5)\n",
            "Requirement already satisfied: MarkupSafe>=2.0 in /usr/local/lib/python3.10/dist-packages (from jinja2->torch-geometric) (2.1.3)\n",
            "Requirement already satisfied: charset-normalizer<4,>=2 in /usr/local/lib/python3.10/dist-packages (from requests->torch-geometric) (3.3.2)\n",
            "Requirement already satisfied: idna<4,>=2.5 in /usr/local/lib/python3.10/dist-packages (from requests->torch-geometric) (3.6)\n",
            "Requirement already satisfied: urllib3<3,>=1.21.1 in /usr/local/lib/python3.10/dist-packages (from requests->torch-geometric) (2.0.7)\n",
            "Requirement already satisfied: certifi>=2017.4.17 in /usr/local/lib/python3.10/dist-packages (from requests->torch-geometric) (2023.11.17)\n",
            "Requirement already satisfied: joblib>=1.1.1 in /usr/local/lib/python3.10/dist-packages (from scikit-learn->torch-geometric) (1.3.2)\n",
            "Requirement already satisfied: threadpoolctl>=2.0.0 in /usr/local/lib/python3.10/dist-packages (from scikit-learn->torch-geometric) (3.2.0)\n",
            "Installing collected packages: torch-geometric\n",
            "Successfully installed torch-geometric-2.4.0\n"
          ]
        }
      ]
    },
    {
      "cell_type": "markdown",
      "metadata": {
        "id": "V0Nvh_-qEo1q"
      },
      "source": [
        "We can now use the library to download and import the dataset. Initializing the `Planetoid` class returns a `Dataset` object that can contain multiple graphs. In this task we will only use the `Cora` dataset (the citation network) and hence, we will select only the first element."
      ]
    },
    {
      "cell_type": "code",
      "metadata": {
        "id": "vuOvwhsHD2YK",
        "colab": {
          "base_uri": "https://localhost:8080/"
        },
        "outputId": "b6d27490-daf7-4589-9cf8-a286a9952ebc"
      },
      "source": [
        "from torch_geometric.datasets import Planetoid\n",
        "data = Planetoid(root='data/Planetoid', name='Cora')[0]"
      ],
      "execution_count": null,
      "outputs": [
        {
          "output_type": "stream",
          "name": "stderr",
          "text": [
            "Downloading https://github.com/kimiyoung/planetoid/raw/master/data/ind.cora.x\n",
            "Downloading https://github.com/kimiyoung/planetoid/raw/master/data/ind.cora.tx\n",
            "Downloading https://github.com/kimiyoung/planetoid/raw/master/data/ind.cora.allx\n",
            "Downloading https://github.com/kimiyoung/planetoid/raw/master/data/ind.cora.y\n",
            "Downloading https://github.com/kimiyoung/planetoid/raw/master/data/ind.cora.ty\n",
            "Downloading https://github.com/kimiyoung/planetoid/raw/master/data/ind.cora.ally\n",
            "Downloading https://github.com/kimiyoung/planetoid/raw/master/data/ind.cora.graph\n",
            "Downloading https://github.com/kimiyoung/planetoid/raw/master/data/ind.cora.test.index\n",
            "Processing...\n",
            "Done!\n"
          ]
        }
      ]
    },
    {
      "cell_type": "markdown",
      "metadata": {
        "id": "v4WZkoiHFyZm"
      },
      "source": [
        "\n",
        "#### Question 1 (0.25 pt)\n",
        "\n",
        "The `data` object is an instance of the `Data` class in PyG. Check the [documentation](https://pytorch-geometric.readthedocs.io/en/latest/modules/data.html) and report the following properties of the graph:\n",
        "\n",
        "- Number of nodes\n",
        "- Number of edges\n",
        "- The dimension $c$ of the feature vectors $x\\in\\mathbb{R}^c$\n",
        "- The number of targets for the classification task"
      ]
    },
    {
      "cell_type": "code",
      "metadata": {
        "id": "sjVuGJhlJC_7",
        "colab": {
          "base_uri": "https://localhost:8080/"
        },
        "outputId": "31f26721-377a-4587-f75f-32f95fd8ce55"
      },
      "source": [
        "# Your answer here\n",
        "import numpy as np\n",
        "\n",
        "num_nodes = data.num_nodes\n",
        "print(\"Number of nodes:\", num_nodes)\n",
        "num_edges = data.num_edges\n",
        "print(\"Number of edges:\",num_edges)\n",
        "num_node_features = data.num_node_features\n",
        "print(\"The dimension c of the feature vectors:\",num_node_features)\n",
        "num_targets = np.unique(data.y).shape[0]\n",
        "print(\"The number of targets for the classification task:\",num_targets)"
      ],
      "execution_count": null,
      "outputs": [
        {
          "output_type": "stream",
          "name": "stdout",
          "text": [
            "Number of nodes: 2708\n",
            "Number of edges: 10556\n",
            "The dimension c of the feature vectors: 1433\n",
            "The number of targets for the classification task: 7\n"
          ]
        }
      ]
    },
    {
      "cell_type": "code",
      "source": [
        "np.unique(data.y).shape"
      ],
      "metadata": {
        "id": "ekobQE25ma3A",
        "colab": {
          "base_uri": "https://localhost:8080/"
        },
        "outputId": "f1b1cdb6-6ea6-423e-dff7-40b5482bb7a2"
      },
      "execution_count": null,
      "outputs": [
        {
          "output_type": "execute_result",
          "data": {
            "text/plain": [
              "(7,)"
            ]
          },
          "metadata": {},
          "execution_count": 8
        }
      ]
    },
    {
      "cell_type": "code",
      "source": [
        "data"
      ],
      "metadata": {
        "colab": {
          "base_uri": "https://localhost:8080/"
        },
        "id": "4txs1ibGt7lb",
        "outputId": "593ba6da-c209-49c6-df36-8f66d9512249"
      },
      "execution_count": null,
      "outputs": [
        {
          "output_type": "execute_result",
          "data": {
            "text/plain": [
              "Data(x=[2708, 1433], edge_index=[2, 10556], y=[2708], train_mask=[2708], val_mask=[2708], test_mask=[2708])"
            ]
          },
          "metadata": {},
          "execution_count": 6
        }
      ]
    },
    {
      "cell_type": "markdown",
      "metadata": {
        "id": "G4DrGDAuJ2YO"
      },
      "source": [
        "#### Question 2 (0.25 pt)\n",
        "\n",
        "In PyG, edges are provided in a tensor of shape (2, number of edges). You can access it via `data.edge_index`. Each column in this tensor contains the IDs for two nodes that are connected in the graph.\n",
        "\n",
        "We saw that in an undirected graph, an edge between nodes $i$ and $j$ adds a value of 1 to positions $(i, j)$ and $(j, i)$ of the adjacency matrix. Is this also true for the edge index? That is, if there is an edge $(i, j)$ in `data.edge_index`, is there also an edge for $(j, i)$? This is important to know for the next steps of the implementation."
      ]
    },
    {
      "cell_type": "code",
      "metadata": {
        "id": "jTRfNxibarRZ",
        "colab": {
          "base_uri": "https://localhost:8080/"
        },
        "outputId": "5926ea37-9b9a-4a2f-d9e8-95421343eba5"
      },
      "source": [
        "# Your answer here\n",
        "print(data.edge_index)\n",
        "adjacency_matrix= np.zeros((2708,2708), dtype = int)\n",
        "\n",
        "data.edge_index[0]\n",
        "\n",
        "# transform the matrix to adjacency matrix\n",
        "for i in range(len(data.edge_index[0])):\n",
        "    row = data.edge_index[0][i]\n",
        "    col = data.edge_index[1][i]\n",
        "    adjacency_matrix[row][col] = 1\n",
        "\n",
        "res = (adjacency_matrix==adjacency_matrix.T).all()\n",
        "# print the result\n",
        "print(res)"
      ],
      "execution_count": null,
      "outputs": [
        {
          "output_type": "stream",
          "name": "stdout",
          "text": [
            "tensor([[   0,    0,    0,  ..., 2707, 2707, 2707],\n",
            "        [ 633, 1862, 2582,  ...,  598, 1473, 2706]])\n",
            "True\n"
          ]
        }
      ]
    },
    {
      "cell_type": "code",
      "source": [],
      "metadata": {
        "id": "EaHR-ddfMLNx"
      },
      "execution_count": null,
      "outputs": []
    },
    {
      "cell_type": "markdown",
      "metadata": {
        "id": "YOpS3QTYiOqp"
      },
      "source": [
        "#### Question 3 (0.5 pt)\n",
        "\n",
        "In graphs, especially large ones, the adjacency matrix is **sparse**: most entries are zero. Sparse matrices allow for efficient storage and computation.\n",
        "\n",
        "To prepare and pre-process sparse matrices, we will use [`scipy.sparse`](https://docs.scipy.org/doc/scipy/reference/sparse.html). Once the matrices are ready, we will convert them to PyTorch tensors.\n",
        "\n",
        "We will use the [Sparse COO format](https://en.wikipedia.org/wiki/Sparse_matrix#Coordinate_list_(COO)). We encourage you to first get familiar with how it works after continuing with the assignment.\n",
        "\n",
        "- Use the [`scipy.sparse.coo_matrix()`](https://docs.scipy.org/doc/scipy/reference/generated/scipy.sparse.coo_matrix.html) function to build the adjacency matrix. Think of what arguments are needed, and how you can obtain them from the graph data loaded above.\n",
        "- Use the `sum()` method of sparse matrices, together with `scipy.sparse.diags()`, to compute the degree matrix using the definition above.\n",
        "\n",
        "Both resulting matrices must be sparse of type `float32`."
      ]
    },
    {
      "cell_type": "code",
      "metadata": {
        "id": "QC01OjbJs92-"
      },
      "source": [
        "# Your answer here\n",
        "from scipy.sparse import coo_matrix\n",
        "from scipy.sparse import diags\n",
        "\n",
        "\n",
        "# build the adjacency matrix\n",
        "coo = coo_matrix(adjacency_matrix, dtype=float)\n",
        "\n",
        "# compute the degree matrix\n",
        "degrees = coo.sum(axis=1).flatten().A\n",
        "diag_matrix = diags(degrees, list(range(len(degrees))), dtype=float)"
      ],
      "execution_count": null,
      "outputs": []
    },
    {
      "cell_type": "code",
      "source": [
        "print(coo)"
      ],
      "metadata": {
        "id": "6WajCWq3QusL",
        "colab": {
          "base_uri": "https://localhost:8080/"
        },
        "outputId": "6e68a250-7173-4e2c-9fbd-3c1670029395"
      },
      "execution_count": null,
      "outputs": [
        {
          "output_type": "stream",
          "name": "stdout",
          "text": [
            "  (0, 633)\t1.0\n",
            "  (0, 1862)\t1.0\n",
            "  (0, 2582)\t1.0\n",
            "  (1, 2)\t1.0\n",
            "  (1, 652)\t1.0\n",
            "  (1, 654)\t1.0\n",
            "  (2, 1)\t1.0\n",
            "  (2, 332)\t1.0\n",
            "  (2, 1454)\t1.0\n",
            "  (2, 1666)\t1.0\n",
            "  (2, 1986)\t1.0\n",
            "  (3, 2544)\t1.0\n",
            "  (4, 1016)\t1.0\n",
            "  (4, 1256)\t1.0\n",
            "  (4, 1761)\t1.0\n",
            "  (4, 2175)\t1.0\n",
            "  (4, 2176)\t1.0\n",
            "  (5, 1629)\t1.0\n",
            "  (5, 1659)\t1.0\n",
            "  (5, 2546)\t1.0\n",
            "  (6, 373)\t1.0\n",
            "  (6, 1042)\t1.0\n",
            "  (6, 1416)\t1.0\n",
            "  (6, 1602)\t1.0\n",
            "  (7, 208)\t1.0\n",
            "  :\t:\n",
            "  (2694, 431)\t1.0\n",
            "  (2694, 2695)\t1.0\n",
            "  (2695, 431)\t1.0\n",
            "  (2695, 2694)\t1.0\n",
            "  (2696, 2615)\t1.0\n",
            "  (2697, 986)\t1.0\n",
            "  (2698, 1400)\t1.0\n",
            "  (2698, 1573)\t1.0\n",
            "  (2699, 2630)\t1.0\n",
            "  (2700, 1151)\t1.0\n",
            "  (2701, 44)\t1.0\n",
            "  (2701, 2624)\t1.0\n",
            "  (2702, 186)\t1.0\n",
            "  (2702, 1536)\t1.0\n",
            "  (2703, 1298)\t1.0\n",
            "  (2704, 641)\t1.0\n",
            "  (2705, 287)\t1.0\n",
            "  (2706, 165)\t1.0\n",
            "  (2706, 169)\t1.0\n",
            "  (2706, 1473)\t1.0\n",
            "  (2706, 2707)\t1.0\n",
            "  (2707, 165)\t1.0\n",
            "  (2707, 598)\t1.0\n",
            "  (2707, 1473)\t1.0\n",
            "  (2707, 2706)\t1.0\n"
          ]
        }
      ]
    },
    {
      "cell_type": "markdown",
      "metadata": {
        "id": "AIEJyQi2TzyY"
      },
      "source": [
        "You might wonder why we suggest to use a scipy sparse matrix, while also PyTorch supports them. The reason is that in the next step, we will be multiplying two sparse matrices, an operation not supported in PyTorch. PyTorch only allows multiplying a sparse matrix with a dense one, something which we will be doing at a later stage.\n",
        "\n"
      ]
    },
    {
      "cell_type": "markdown",
      "metadata": {
        "id": "YlmzSb0up4LB"
      },
      "source": [
        "### The Graph Convolutional Network\n",
        "\n",
        "The goal of the graph convolution is to take the feature vectors of all nodes $X\\in\\mathbb{R}^{n\\times c}$, and propagate them along the existing edges, to obtain updated representations $Z\\in\\mathbb{R}^{n\\times d}$.\n",
        "\n",
        "\n",
        "The GCN is initially motivated as performing a convolution, similarly as it is done in CNNs for images, for graph-structured data. In Kipf and Welling (2017), a theoretical derivation leads to the following formula:\n",
        "\n",
        "$$\n",
        "Z = \\tilde{D}^{-\\frac{1}{2}}\\tilde{A}\\tilde{D}^{-\\frac{1}{2}}XW\n",
        "$$\n",
        "\n",
        "where\n",
        "\n",
        "- $W\\in\\mathbb{R}^{c\\times d}$ is a matrix of parameters to be learned via gradient descent\n",
        "- $\\tilde{A} = A + I_n$, where $I_n$ is an $n\\times n$ identity matrix\n",
        "- $\\tilde{D}$ is the degree matrix computed with $\\tilde{A}$ as the adjacency matrix\n",
        "\n",
        "If we define $\\hat{A} = \\tilde{D}^{-\\frac{1}{2}}\\tilde{A}\\tilde{D}^{-\\frac{1}{2}}$, the graph convolution can be written as $Z = \\hat{A}XW$."
      ]
    },
    {
      "cell_type": "markdown",
      "metadata": {
        "id": "LL4b-MTvysBp"
      },
      "source": [
        "#### Question 4 (0.25 pt)\n",
        "\n",
        "Given the formula for the GCN, explain why it operates by propagating feature vectors across the graph. To answer this, it might be useful to recall the definitions of the adjacency and degree matrices, and how they are involved in the formula."
      ]
    },
    {
      "cell_type": "markdown",
      "metadata": {
        "id": "Vgx2SkTTyiSN"
      },
      "source": [
        "*Your answer here*\n",
        "\n",
        "In order to understand $\\hat{A} = \\tilde{D}^{-\\frac{1}{2}}\\tilde{A}\\tilde{D}^{-\\frac{1}{2}}$, we can start from matrix multiplication. Since $\\tilde{D}$ is diagonal matrix, so only the non-sero value on diagonal position of $\\tilde{A}$ will be kept after the multiplicaiton with $\\tilde{D}$:\n",
        "\n",
        "$$\n",
        "(\\tilde{D}^{-\\frac{1}{2}}\\tilde{A})_{ij} = \\sum_{k=n}^N D_{ik} \\tilde A_{kj} = \\tilde D_{ii}^{- \\frac{1}{2}} \\tilde A_{ij}\n",
        "$$\n",
        "\n",
        "Take $A' = \\tilde{D}^{-\\frac{1}{2}}\\tilde{A}$. $A'$ can be interpreted as scaling the strength of each outgoing connection from node i by the number of outgoing connections node i has.\n",
        "Then take A' back to $\\hat{A}$:\n",
        "\n",
        "$$\n",
        "\\hat{A}= A' \\tilde{D}^{-\\frac{1}{2}} = \\sum_{k=1}^K A'_{ik} \\tilde{D}^{-\\frac{1}{2}}_{kj} = A'_{ij} \\tilde{D}^{-\\frac{1}{2}}_{jj}\n",
        "$$\n",
        "\n",
        "Also, this means scaling every incoming connection to node j by $1/\\sqrt{d_j}$. Therefore, $\\hat{A_{ij}} = d_i^{-\\frac{1}{2}} d_j^{-\\frac{1}{2}} A_{ij}$ where $d_k$ is the degree for node k. This is non-zero only when node i and j are connected or i = j.\n",
        "\n",
        "In order to computing a weighted sum of the j-th attribute of all nodes connected to node i, weighted by the $\\hat{A}$ attributes and original X:\n",
        "$$\n",
        "(\\hat{A}X)_{ij} = \\sum_{k=1}^K \\hat{A}_{ik} X_{kj}\n",
        "$$\n",
        "\n",
        "Finally, taking the multiplication with the weight matrix W is effectively a normal fully-connected layer between this weighted sum of attributes and the next layer. Because this uses a single adjacency hop, it can only provide convolutions for a node to its direct neighbors. Stacking these layers allow for wider dependencies, similar to how stacking convolutional layers yields richer features."
      ]
    },
    {
      "cell_type": "markdown",
      "metadata": {
        "id": "QUGABEqxylsd"
      },
      "source": [
        "#### Question 5 (0.5 pt)\n",
        "\n",
        "Compute the **normalized adjacency matrix** $\\hat{A}$. The result should be a sparse matrix."
      ]
    },
    {
      "cell_type": "code",
      "metadata": {
        "id": "GPZbnSaSyDzO"
      },
      "source": [
        "# Your answer here\n",
        "from scipy.sparse import identity\n",
        "\n",
        "a_tilde = coo + identity(coo.shape[0])\n",
        "a_hat = (diag_matrix.power(-0.5) @ a_tilde @ diag_matrix.power(-0.5)).tocoo()"
      ],
      "execution_count": null,
      "outputs": []
    },
    {
      "cell_type": "code",
      "source": [
        "a_hat.row"
      ],
      "metadata": {
        "colab": {
          "base_uri": "https://localhost:8080/"
        },
        "id": "5uGemTYmYqon",
        "outputId": "9e217250-c7a0-4b8a-c946-4b12afea404b"
      },
      "execution_count": null,
      "outputs": [
        {
          "output_type": "execute_result",
          "data": {
            "text/plain": [
              "array([   0,    0,    0, ..., 2707, 2707, 2707], dtype=int32)"
            ]
          },
          "metadata": {},
          "execution_count": 12
        }
      ]
    },
    {
      "cell_type": "markdown",
      "metadata": {
        "id": "LLLdGdZoMEy-"
      },
      "source": [
        "#### Question 6 (0.5 pt)\n",
        "\n",
        "So far we have used scipy to build and compute sparse matrices. Since we want to train a GCN with PyTorch, we need to convert $\\hat{A}$ into a sparse PyTorch tensor. You can do this with the [`torch.sparse_coo_tensor()`](https://pytorch.org/docs/stable/generated/torch.sparse_coo_tensor.html) function, making sure to specify `torch.float` as the type."
      ]
    },
    {
      "cell_type": "code",
      "metadata": {
        "id": "dgDsVHzEM32F"
      },
      "source": [
        "# Your answer here\n",
        "\n",
        "indices = np.vstack((a_hat.row, a_hat.col))\n",
        "a_hat_torch = torch.sparse_coo_tensor(indices, a_hat.data, dtype=torch.float)"
      ],
      "execution_count": null,
      "outputs": []
    },
    {
      "cell_type": "code",
      "source": [
        "a_hat_torch"
      ],
      "metadata": {
        "colab": {
          "base_uri": "https://localhost:8080/"
        },
        "id": "WhI-1YXbFGxd",
        "outputId": "ec03d277-6956-42ec-acc6-e278d6f59369"
      },
      "execution_count": null,
      "outputs": [
        {
          "output_type": "execute_result",
          "data": {
            "text/plain": [
              "tensor(indices=tensor([[   0,    0,    0,  ..., 2707, 2707, 2707],\n",
              "                       [   0,  633, 1862,  ..., 1473, 2706, 2707]]),\n",
              "       values=tensor([0.3333, 0.3333, 0.2887,  ..., 0.2500, 0.2500, 0.2500]),\n",
              "       size=(2708, 2708), nnz=13264, layout=torch.sparse_coo)"
            ]
          },
          "metadata": {},
          "execution_count": 10
        }
      ]
    },
    {
      "cell_type": "markdown",
      "metadata": {
        "id": "eAlRVT5aODkX"
      },
      "source": [
        "#### Question 7 (0.5 pt)\n",
        "\n",
        "We now have all the ingredients to build a GCN layer. Implement a class (inheriting from `torch.nn.Module`) with a learnable matrix of weights $W\\in\\mathbb{R}^{c\\times d}$. Make sure to\n",
        "\n",
        "- Call this class `GCNLayer`\n",
        "- The `__init__()` constructor should take as argument the number of input and output features.\n",
        "- Use `torch.nn.init.kaiming_uniform_` to initialize $W$.\n",
        "- Define the `forward` method, which takes as input $X$ and $\\hat{A}$ and returns $Z$. Note that multiplications involving the sparse matrix $\\hat{A}$ have to be done with `torch.spmm`.\n",
        "\n",
        "Once you have implemented the class, instantiate a layer with the correct number of input features for the Cora dataset, and a number of output features of your choice. Do a forward pass and report the shape of the output tensor."
      ]
    },
    {
      "cell_type": "code",
      "metadata": {
        "id": "JFCohhhwPpTT"
      },
      "source": [
        "# Your answer here\n",
        "from torch.nn import Parameter\n",
        "\n",
        "class GCNLayer(torch.nn.Module):\n",
        "  def __init__(self, in_features, out_features):\n",
        "    super().__init__()\n",
        "    # Define learnable weight matrix\n",
        "    self.W = Parameter(torch.Tensor(in_features, out_features))\n",
        "    torch.nn.init.kaiming_uniform_(self.W)  # Xavier/Glorot initialization\n",
        "\n",
        "  def forward(self, X, A_hat):\n",
        "    \"\"\"\n",
        "    Forward pass of the GCN layer.\n",
        "\n",
        "    Parameters:\n",
        "    - adjacency_matrix (torch.Tensor): The adjacency matrix of the graph.\n",
        "    - input_features (torch.Tensor): The input feature matrix for all nodes.\n",
        "\n",
        "    Returns:\n",
        "    - torch.Tensor: The output feature matrix after the GCN layer.\n",
        "    \"\"\"\n",
        "    # Perform graph convolution: Z = ÂXW\n",
        "    X_hat = torch.spmm(A_hat, X)\n",
        "    # X_hat = torch.spmm(X, A_hat)\n",
        "    Z = torch.spmm(X_hat, self.W)\n",
        "    return Z\n",
        "\n",
        "\n",
        "# gcn_layer = GCNLayer()"
      ],
      "execution_count": null,
      "outputs": []
    },
    {
      "cell_type": "code",
      "source": [
        "gcn_layer = GCNLayer(num_node_features, 12)\n",
        "result = gcn_layer(data.x, a_hat_torch)\n",
        "result.size()"
      ],
      "metadata": {
        "colab": {
          "base_uri": "https://localhost:8080/"
        },
        "id": "yECL4Y80H1zz",
        "outputId": "fa4b5054-8129-4281-bc7c-9af76b1dc773"
      },
      "execution_count": null,
      "outputs": [
        {
          "output_type": "execute_result",
          "data": {
            "text/plain": [
              "torch.Size([2708, 12])"
            ]
          },
          "metadata": {},
          "execution_count": 15
        }
      ]
    },
    {
      "cell_type": "markdown",
      "metadata": {
        "id": "1ptAiizZUKaM"
      },
      "source": [
        "#### Question 8 (0.5 pt)\n",
        "\n",
        "As we have seen so far, the GCN layer implements a special type of linear transformation of the inputs. However, it is often beneficial in deep learning to stack multiple, non-linear transformations of the input features. Implement a second module class for a model with two GCN layers (use the module you implemented in the previous question).\n",
        "\n",
        "- Call this class `GCN`\n",
        "- The constructor must now take as input the number of input features, the output dimension of the first layer (this is the hidden layer), and the output dimension of the output layer.\n",
        "- In the forward pass, add a ReLU activation function after the first layer."
      ]
    },
    {
      "cell_type": "code",
      "metadata": {
        "id": "2zhyu3S9Vj3b"
      },
      "source": [
        "import torch.nn.functional as F\n",
        "# Your answer here\n",
        "class GCN(torch.nn.Module):\n",
        "  def __init__(self, in_features, hidden_size, out_features):\n",
        "    super(GCN, self).__init__()\n",
        "    self.layer1 = GCNLayer(in_features, hidden_size)\n",
        "    self.layer2 = GCNLayer(hidden_size, out_features)\n",
        "\n",
        "  def forward(self, X, A_hat):\n",
        "    X = F.relu(self.layer1(X, A_hat))\n",
        "    result = self.layer2(X, A_hat)\n",
        "    return result\n"
      ],
      "execution_count": null,
      "outputs": []
    },
    {
      "cell_type": "code",
      "source": [
        "gcn_layer_1 = GCNLayer(num_node_features, 48)\n",
        "gcn_layer_2 = GCNLayer(48, 12)\n",
        "X = F.relu(gcn_layer_1(data.x, a_hat_torch))\n",
        "result = gcn_layer_2(X, a_hat_torch)"
      ],
      "metadata": {
        "id": "Hx0aJqgqPOi_"
      },
      "execution_count": null,
      "outputs": []
    },
    {
      "cell_type": "markdown",
      "metadata": {
        "id": "6NVB-3I5Wfkf"
      },
      "source": [
        "### GCNs for semi-supervised node classification\n",
        "\n",
        "Now that we have a GCN with two layers, we can test its performance in a node classification task. We will pass the input node features $X$ through the GCN layers, and the output will be of size $n\\times k$ where $k$ is the number of classes (which you found in question 1). The label denotes the topic an article in the citation network belongs to (e.g. physics, computer science, etc.)."
      ]
    },
    {
      "cell_type": "markdown",
      "metadata": {
        "id": "trc4dSa7cuQj"
      },
      "source": [
        "#### Question 9 (1.5 pt)\n",
        "\n",
        "Note that the `data` object contains all labels (for all splits) in `data.y`, and binary masks for the train, validation, and test splits in `data.train_mask`, `data.val_mask`, and `data.test_mask`, respectively. These masks are the same size as `data.y`, and indicate which labels belong to which split.\n",
        "\n",
        "- Create a GCN with two layers (using the class from the previous question), with 32 as the hidden dimension, and the number of output features equal to the number of classes in the Cora dataset.\n",
        "\n",
        "- Use the Adam optimizer with a learning rate of 0.01.\n",
        "\n",
        "- Implement a training loop for the GCN. At each step, pass $X$ and $\\hat{A}$ to the GCN to obtain the logits. Compute the mean cross-entropy loss **only for the training instances**, using the binary masks.\n",
        "\n",
        "- After each training step, evaluate the accuracy for the validation instances.\n",
        "\n",
        "- Train for 100 epochs. Once training is finished, plot the training loss and validation accuracy (in a graph in function of the epoch number), and report the accuracy in the test set.\n",
        "\n",
        "You should obtain an accuracy over 75% on both the validation and test sets. You can also compare your results with the original paper, which also contains results for the Cora dataset. Give a brief discussion on the results of your experiments.\n",
        "\n",
        "Note that in contrast with other tasks, like image classification on some datasets, we don't use mini-batches here. The whole matrix of features and the adjacency is passed to the GCN in one step."
      ]
    },
    {
      "cell_type": "code",
      "metadata": {
        "id": "5Z2OP_ZRWlmo",
        "colab": {
          "base_uri": "https://localhost:8080/"
        },
        "outputId": "c1044037-1345-45c3-db73-44bf5f2f65e6"
      },
      "source": [
        "# Your answer here\n",
        "\n",
        "# Initial GCN model\n",
        "# device = torch.device('cpu')\n",
        "num_node_features = data.num_node_features\n",
        "print(\"The dimension c of the feature vectors:\",num_node_features)\n",
        "num_targets = np.unique(data.y).shape[0]\n",
        "print(\"The number of targets for the classification task:\",num_targets)\n",
        "\n",
        "in_features = num_node_features\n",
        "hidden_size = 32\n",
        "out_features = num_targets\n",
        "\n",
        "gcn_model = GCN(in_features, hidden_size, out_features)\n",
        "\n",
        "# Initial optimizer and loss function\n",
        "optimizer = torch.optim.Adam(gcn_model.parameters(), lr=0.01)\n",
        "loss = torch.nn.CrossEntropyLoss()"
      ],
      "execution_count": null,
      "outputs": [
        {
          "output_type": "stream",
          "name": "stdout",
          "text": [
            "The dimension c of the feature vectors: 1433\n",
            "The number of targets for the classification task: 7\n"
          ]
        }
      ]
    },
    {
      "cell_type": "code",
      "source": [
        "device = torch.device('cuda' if torch.cuda.is_available() else 'cpu')\n",
        "gcn = gcn_model.to(device)\n",
        "data = data.to(device)\n",
        "a_hat_torch = a_hat_torch.to(device)\n"
      ],
      "metadata": {
        "id": "wLP_ilPKuDRV"
      },
      "execution_count": null,
      "outputs": []
    },
    {
      "cell_type": "code",
      "source": [
        "epochs = 100\n",
        "all_losses = []\n",
        "val_accuracies = []"
      ],
      "metadata": {
        "id": "A2rMKxugE6fF"
      },
      "execution_count": null,
      "outputs": []
    },
    {
      "cell_type": "code",
      "source": [
        "for epoch in range(epochs):\n",
        "  # print(epoch)\n",
        "  running_loss = 0\n",
        "\n",
        "  # Zero your gradients for every batch\n",
        "  optimizer.zero_grad()\n",
        "\n",
        "  # Make predictions for this batch\n",
        "  pred = gcn_model(data.x, a_hat_torch)\n",
        "\n",
        "  # Compute the loss and its gradients\n",
        "  classify_loss = loss(pred[data.train_mask], data.y[data.train_mask])\n",
        "  classify_loss.backward()\n",
        "\n",
        "  # Adjust learning weights\n",
        "  optimizer.step()\n",
        "  running_loss += classify_loss.mean().item()\n",
        "  all_losses.append(running_loss)\n",
        "  # print(f'')\n",
        "\n",
        "  # Validate dataset and calculate the accuracy\n",
        "  preds = gcn(data.x, a_hat_torch)\n",
        "  correct = 0\n",
        "  for i, pred in enumerate(preds):\n",
        "    if not data.val_mask[i]:\n",
        "      continue\n",
        "    corr = data.y[i]\n",
        "    if torch.argmax(pred) == corr:\n",
        "      correct += 1\n",
        "  accuracy = correct/data.val_mask.sum()\n",
        "  print(f'epoch: {epoch},Running loss: {running_loss}, Accuracy: {accuracy}')\n",
        "  val_accuracies.append(accuracy.cpu())"
      ],
      "metadata": {
        "colab": {
          "base_uri": "https://localhost:8080/"
        },
        "id": "dOBNe497IEpc",
        "outputId": "81f973ae-9d82-44e7-d67c-d06f46977ecc"
      },
      "execution_count": null,
      "outputs": [
        {
          "output_type": "stream",
          "name": "stdout",
          "text": [
            "epoch: 0,Running loss: 4.289278030395508, Accuracy: 0.1680000126361847\n",
            "epoch: 1,Running loss: 2.7682607173919678, Accuracy: 0.242000013589859\n",
            "epoch: 2,Running loss: 1.84292733669281, Accuracy: 0.30400002002716064\n",
            "epoch: 3,Running loss: 1.3001158237457275, Accuracy: 0.35600000619888306\n",
            "epoch: 4,Running loss: 0.9529351592063904, Accuracy: 0.43400001525878906\n",
            "epoch: 5,Running loss: 0.7063729166984558, Accuracy: 0.47200003266334534\n",
            "epoch: 6,Running loss: 0.52637779712677, Accuracy: 0.5160000324249268\n",
            "epoch: 7,Running loss: 0.3955271244049072, Accuracy: 0.5540000200271606\n",
            "epoch: 8,Running loss: 0.2989026606082916, Accuracy: 0.5980000495910645\n",
            "epoch: 9,Running loss: 0.2282174676656723, Accuracy: 0.6160000562667847\n",
            "epoch: 10,Running loss: 0.17765943706035614, Accuracy: 0.6420000195503235\n",
            "epoch: 11,Running loss: 0.14074808359146118, Accuracy: 0.6580000519752502\n",
            "epoch: 12,Running loss: 0.11315406113862991, Accuracy: 0.6640000343322754\n",
            "epoch: 13,Running loss: 0.09138087928295135, Accuracy: 0.6760000586509705\n",
            "epoch: 14,Running loss: 0.07398538291454315, Accuracy: 0.6720000505447388\n",
            "epoch: 15,Running loss: 0.0598641037940979, Accuracy: 0.6760000586509705\n",
            "epoch: 16,Running loss: 0.048187803477048874, Accuracy: 0.6820000410079956\n",
            "epoch: 17,Running loss: 0.03893783316016197, Accuracy: 0.6880000233650208\n",
            "epoch: 18,Running loss: 0.0316530279815197, Accuracy: 0.6920000314712524\n",
            "epoch: 19,Running loss: 0.02599520795047283, Accuracy: 0.6980000138282776\n",
            "epoch: 20,Running loss: 0.02156231366097927, Accuracy: 0.7040000557899475\n",
            "epoch: 21,Running loss: 0.01814839243888855, Accuracy: 0.7040000557899475\n",
            "epoch: 22,Running loss: 0.015508224256336689, Accuracy: 0.706000030040741\n",
            "epoch: 23,Running loss: 0.013414041139185429, Accuracy: 0.706000030040741\n",
            "epoch: 24,Running loss: 0.011715754866600037, Accuracy: 0.706000030040741\n",
            "epoch: 25,Running loss: 0.010297556407749653, Accuracy: 0.706000030040741\n",
            "epoch: 26,Running loss: 0.009085805155336857, Accuracy: 0.7040000557899475\n",
            "epoch: 27,Running loss: 0.008039409294724464, Accuracy: 0.7040000557899475\n",
            "epoch: 28,Running loss: 0.007122807204723358, Accuracy: 0.7040000557899475\n",
            "epoch: 29,Running loss: 0.006317688152194023, Accuracy: 0.7080000042915344\n",
            "epoch: 30,Running loss: 0.005606318358331919, Accuracy: 0.7120000123977661\n",
            "epoch: 31,Running loss: 0.0049807233735919, Accuracy: 0.7140000462532043\n",
            "epoch: 32,Running loss: 0.004436602350324392, Accuracy: 0.7120000123977661\n",
            "epoch: 33,Running loss: 0.003966830670833588, Accuracy: 0.7120000123977661\n",
            "epoch: 34,Running loss: 0.003563328180462122, Accuracy: 0.7080000042915344\n",
            "epoch: 35,Running loss: 0.0032172587234526873, Accuracy: 0.7080000042915344\n",
            "epoch: 36,Running loss: 0.0029246630147099495, Accuracy: 0.7080000042915344\n",
            "epoch: 37,Running loss: 0.0026764285285025835, Accuracy: 0.706000030040741\n",
            "epoch: 38,Running loss: 0.002463746117427945, Accuracy: 0.7120000123977661\n",
            "epoch: 39,Running loss: 0.0022812869865447283, Accuracy: 0.7140000462532043\n",
            "epoch: 40,Running loss: 0.0021242182701826096, Accuracy: 0.7140000462532043\n",
            "epoch: 41,Running loss: 0.001988428644835949, Accuracy: 0.7140000462532043\n",
            "epoch: 42,Running loss: 0.0018706712871789932, Accuracy: 0.7140000462532043\n",
            "epoch: 43,Running loss: 0.0017684741178527474, Accuracy: 0.7140000462532043\n",
            "epoch: 44,Running loss: 0.0016788275679573417, Accuracy: 0.7100000381469727\n",
            "epoch: 45,Running loss: 0.0015998128801584244, Accuracy: 0.7120000123977661\n",
            "epoch: 46,Running loss: 0.0015298662474378943, Accuracy: 0.7120000123977661\n",
            "epoch: 47,Running loss: 0.0014672675170004368, Accuracy: 0.7100000381469727\n",
            "epoch: 48,Running loss: 0.0014109021285548806, Accuracy: 0.7120000123977661\n",
            "epoch: 49,Running loss: 0.0013599153608083725, Accuracy: 0.7120000123977661\n",
            "epoch: 50,Running loss: 0.001313505694270134, Accuracy: 0.7140000462532043\n",
            "epoch: 51,Running loss: 0.0012710680020973086, Accuracy: 0.7120000123977661\n",
            "epoch: 52,Running loss: 0.001232003211043775, Accuracy: 0.7120000123977661\n",
            "epoch: 53,Running loss: 0.0011959379771724343, Accuracy: 0.7120000123977661\n",
            "epoch: 54,Running loss: 0.0011624771868810058, Accuracy: 0.7120000123977661\n",
            "epoch: 55,Running loss: 0.001131397089920938, Accuracy: 0.7120000123977661\n",
            "epoch: 56,Running loss: 0.0011024525156244636, Accuracy: 0.7120000123977661\n",
            "epoch: 57,Running loss: 0.0010754194809123874, Accuracy: 0.7120000123977661\n",
            "epoch: 58,Running loss: 0.0010501121869310737, Accuracy: 0.7140000462532043\n",
            "epoch: 59,Running loss: 0.0010263584554195404, Accuracy: 0.7140000462532043\n",
            "epoch: 60,Running loss: 0.001004017423838377, Accuracy: 0.7140000462532043\n",
            "epoch: 61,Running loss: 0.0009829261107370257, Accuracy: 0.7160000205039978\n",
            "epoch: 62,Running loss: 0.0009629909764043987, Accuracy: 0.7160000205039978\n",
            "epoch: 63,Running loss: 0.0009441237198188901, Accuracy: 0.7160000205039978\n",
            "epoch: 64,Running loss: 0.0009262714884243906, Accuracy: 0.7160000205039978\n",
            "epoch: 65,Running loss: 0.0009093139669857919, Accuracy: 0.7160000205039978\n",
            "epoch: 66,Running loss: 0.0008931159973144531, Accuracy: 0.7160000205039978\n",
            "epoch: 67,Running loss: 0.0008776572067290545, Accuracy: 0.7160000205039978\n",
            "epoch: 68,Running loss: 0.0008630403317511082, Accuracy: 0.7160000205039978\n",
            "epoch: 69,Running loss: 0.0008490410982631147, Accuracy: 0.7160000205039978\n",
            "epoch: 70,Running loss: 0.0008356247562915087, Accuracy: 0.7160000205039978\n",
            "epoch: 71,Running loss: 0.0008227549260482192, Accuracy: 0.7160000205039978\n",
            "epoch: 72,Running loss: 0.0008103863219730556, Accuracy: 0.7160000205039978\n",
            "epoch: 73,Running loss: 0.0007984955445863307, Accuracy: 0.7160000205039978\n",
            "epoch: 74,Running loss: 0.0007870318368077278, Accuracy: 0.7160000205039978\n",
            "epoch: 75,Running loss: 0.0007759797153994441, Accuracy: 0.7160000205039978\n",
            "epoch: 76,Running loss: 0.0007653097854927182, Accuracy: 0.7160000205039978\n",
            "epoch: 77,Running loss: 0.0007549870060756803, Accuracy: 0.7160000205039978\n",
            "epoch: 78,Running loss: 0.0007450046832673252, Accuracy: 0.7160000205039978\n",
            "epoch: 79,Running loss: 0.0007353229448199272, Accuracy: 0.7160000205039978\n",
            "epoch: 80,Running loss: 0.0007258632685989141, Accuracy: 0.7160000205039978\n",
            "epoch: 81,Running loss: 0.0007166874711401761, Accuracy: 0.718000054359436\n",
            "epoch: 82,Running loss: 0.0007077489863149822, Accuracy: 0.718000054359436\n",
            "epoch: 83,Running loss: 0.0006990292458795011, Accuracy: 0.718000054359436\n",
            "epoch: 84,Running loss: 0.0006904767360538244, Accuracy: 0.718000054359436\n",
            "epoch: 85,Running loss: 0.0006821430288255215, Accuracy: 0.718000054359436\n",
            "epoch: 86,Running loss: 0.0006740089156664908, Accuracy: 0.718000054359436\n",
            "epoch: 87,Running loss: 0.000666051812004298, Accuracy: 0.718000054359436\n",
            "epoch: 88,Running loss: 0.0006582934292964637, Accuracy: 0.7200000286102295\n",
            "epoch: 89,Running loss: 0.0006507379584945738, Accuracy: 0.7200000286102295\n",
            "epoch: 90,Running loss: 0.0006433429080061615, Accuracy: 0.7200000286102295\n",
            "epoch: 91,Running loss: 0.0006360895931720734, Accuracy: 0.7200000286102295\n",
            "epoch: 92,Running loss: 0.0006289944285526872, Accuracy: 0.7200000286102295\n",
            "epoch: 93,Running loss: 0.00062199542298913, Accuracy: 0.7200000286102295\n",
            "epoch: 94,Running loss: 0.0006151849520392716, Accuracy: 0.7200000286102295\n",
            "epoch: 95,Running loss: 0.0006085173808969557, Accuracy: 0.7200000286102295\n",
            "epoch: 96,Running loss: 0.0006019740249030292, Accuracy: 0.7200000286102295\n",
            "epoch: 97,Running loss: 0.0005955592496320605, Accuracy: 0.7200000286102295\n",
            "epoch: 98,Running loss: 0.000589233182836324, Accuracy: 0.7200000286102295\n",
            "epoch: 99,Running loss: 0.0005830535665154457, Accuracy: 0.7200000286102295\n"
          ]
        }
      ]
    },
    {
      "cell_type": "code",
      "source": [
        "preds = gcn(data.x, a_hat_torch)\n",
        "correct = 0\n",
        "for i, pred in enumerate(preds):\n",
        "  if not data.test_mask[i]:\n",
        "    continue\n",
        "  corr = data.y[i]\n",
        "  if torch.argmax(pred) == corr:\n",
        "    correct += 1\n",
        "test_accuracy = correct/data.test_mask.sum()\n",
        "print(f'Test Accuracy: {test_accuracy}')"
      ],
      "metadata": {
        "colab": {
          "base_uri": "https://localhost:8080/"
        },
        "id": "cCcj1VpvMbIC",
        "outputId": "5b5e8f90-72af-4972-c3e2-f8db1434920c"
      },
      "execution_count": null,
      "outputs": [
        {
          "output_type": "stream",
          "name": "stdout",
          "text": [
            "Test Accuracy: 0.7630000114440918\n"
          ]
        }
      ]
    },
    {
      "cell_type": "code",
      "source": [
        "import matplotlib.pyplot as plt\n",
        "\n",
        "plt.figure(figsize=(12,6))\n",
        "plt.plot(list(range(len(val_accuracies))), val_accuracies, label='Validation Accuracy')\n",
        "plt.plot(list(range(len(all_losses))), all_losses, label='Average Epoch Loss')\n",
        "plt.title('Average training loss and validation accuracy per epoch')\n",
        "plt.title(\"\\n GCN Loss and Validation Accuracy over training steps for 100 epochs\\n\", size = 22)\n",
        "plt.ylabel(\"\\nCross-Entropy Loss\\n\", size = 18)\n",
        "plt.xlabel(\"\\nEpochs\\n\", size = 18)\n",
        "plt.xticks(size = 18, rotation = 0)\n",
        "plt.yticks(size = 18)\n",
        "plt.annotate(f\"Test Accuracy: {round(test_accuracy.item(),6)}\", xy = (40,3), size = 16)\n",
        "plt.legend()\n",
        "plt.show()"
      ],
      "metadata": {
        "colab": {
          "base_uri": "https://localhost:8080/",
          "height": 726
        },
        "id": "IK4x4jMVNw2g",
        "outputId": "028ca821-7351-47b7-fc74-82cae3499e3b"
      },
      "execution_count": null,
      "outputs": [
        {
          "output_type": "display_data",
          "data": {
            "text/plain": [
              "<Figure size 1200x600 with 1 Axes>"
            ],
            "image/png": "[encoded data removed]"
          },
          "metadata": {}
        }
      ]
    },
    {
      "cell_type": "code",
      "source": [
        "# data.y, data.train_mask, data.val_mask, data.test_mask\n",
        "# device\n",
        "a_hat_torch.shape"
      ],
      "metadata": {
        "colab": {
          "base_uri": "https://localhost:8080/"
        },
        "id": "ISR_7pRQDXhB",
        "outputId": "ca2efff8-f0c5-4045-fa71-e0e284602d8e"
      },
      "execution_count": 44,
      "outputs": [
        {
          "output_type": "execute_result",
          "data": {
            "text/plain": [
              "torch.Size([2708, 2708])"
            ]
          },
          "metadata": {},
          "execution_count": 44
        }
      ]
    },
    {
      "cell_type": "markdown",
      "metadata": {
        "id": "vb5YjHVClCqo"
      },
      "source": [
        "#### Question 10 (0.5 pt)\n",
        "\n",
        "The paper introduces GCNs as a way to solve a *semi-supervised* classification problem.\n",
        "\n",
        "- What makes this problem semi-supervised?\n",
        "- What is the proportion of labeled data used for training with respect to labeled data in the validation and test sets? What is difference in this context with other benchmark tasks in machine learning, like image classification with MNIST?\n",
        "- Why do you think the GCN performs well in this semi-supervised scenario?"
      ]
    },
    {
      "cell_type": "code",
      "metadata": {
        "id": "7qw58r1MmCUJ",
        "colab": {
          "base_uri": "https://localhost:8080/"
        },
        "outputId": "925e8c28-b9db-40d7-ea17-e9572d9ff3a7"
      },
      "source": [
        "# Your answer here\n",
        "print(f\"Number of Train Nodes: {len(data.train_mask.nonzero())}\")\n",
        "print(f\"Number of Test Nodes: {len(data.test_mask.nonzero())}\")\n",
        "print(f\"Number of Val Nodes: {len(data.val_mask.nonzero())}\")"
      ],
      "execution_count": null,
      "outputs": [
        {
          "output_type": "stream",
          "name": "stdout",
          "text": [
            "Number of Train Nodes: 140\n",
            "Number of Test Nodes: 1000\n",
            "Number of Val Nodes: 500\n"
          ]
        }
      ]
    },
    {
      "cell_type": "markdown",
      "source": [
        "1.  What makes this problem semi-supervised?\n",
        "\n",
        "- Answer: A semi-supervised classification problem is characterized by having a dataset where only a subset of the data points are labeled, while the majority of the data points are unlabeled.\n",
        "In the context of a graph neural network, such as Graph Convolutional Networks (GCNs), this implies that only a fraction of nodes in the graph have associated class labels, while the remaining nodes lack explicit class information.\n",
        "In this problem, only 140 nodes are labeled, while 1000 are unlabeled.\n",
        "\n",
        "\n",
        "2. What is the proportion of labeled data used for training with respect to labeled data in the validation and test sets? What is difference in this context with other benchmark tasks in machine learning, like image classification with MNIST?\n",
        "\n",
        "- Answer: The proportion of labeled data used for training in comparison to labeled data in the validation and test sets can vary.\n",
        "Generally, in semi-supervised learning, a small portion of the data is labeled, and this limited labeled information is used to generalize and infer the labels of the remaining unlabeled data.\n",
        "In this dataset, only 140 labeled nodes are used for training, while 500 nodes are used for validation (e.g. tuning) and 1000 nodes are available for testing. This shows that even 10% of the graph nodes are not needed to obtain meaningful classification of labeled and unlabeled nodes in GCN. Other commonly used neural network architectures require more training samples to achieve comparable results.\n",
        "In contrast to other benchmark tasks in machine learning, such as image classification with MNIST, where each image comes with a predefined label, semi-supervised tasks like those addressed by GCNs involve a more realistic scenario where acquiring labeled data can be expensive or time-consuming. This makes the model's ability to generalize to unlabeled data crucial.\n",
        "\n",
        "\n",
        "3.  Why do you think the GCN performs well in this semi-supervised scenario?\n",
        "- Answer: Graph Convolutional Networks (GCNs) are particularly adept in semi-supervised learning due to their ability to leverage graph-structured data. The inherent structure of the graph allows GCNs to capture intricate relationships between nodes, aiding in the propagation of information throughout the network. This proves crucial in scenarios where labeled data is limited, as GCNs can generalize well to unlabeled nodes by learning from their connected, labeled counterparts. The smoothness assumption, where connected nodes are likely to have similar labels, aligns with the nature of many real-world graphs. GCNs excel in semi-supervised tasks by effectively utilizing graph topology, generating informative node embeddings, and making predictions based on the relational context within the graph.\n"
      ],
      "metadata": {
        "id": "8SDBx4JnRBzh"
      }
    },
    {
      "cell_type": "markdown",
      "metadata": {
        "id": "4ihrjZddvz5d"
      },
      "source": [
        "### Loading a dataset of proteins\n",
        "In the previous sections you learned how to pass the adjacency matrix of a graph with a couple of thousand of nodes, to classify each node with a particular label. A different and useful application of GCNs is graph classification.\n",
        "\n",
        "In contrast with the previous part, where there was a single, big graph, in graph classification we have multiple graphs, and each graph can be assigned a label. In this part of the assignment you will implement a classifier for proteins.\n",
        "\n",
        "[Proteins](https://en.wikipedia.org/wiki/Protein_(nutrient)) are parts of the buildings block of life. They consist of chains of amino acids, and can take many shapes. In the PROTEINS dataset, proteins are represented as graphs, where the nodes are amino acids, and an edge between them indicates that they are 6 [Angstroms](https://en.wikipedia.org/wiki/Angstrom) apart. All graphs have a binary label, where 1 means that the protein is not an enzyme.\n",
        "\n",
        "We will start by loading and examining this dataset."
      ]
    },
    {
      "cell_type": "code",
      "metadata": {
        "id": "xmqweMcvnUH6",
        "colab": {
          "base_uri": "https://localhost:8080/"
        },
        "outputId": "546b05ef-b9d3-4532-9622-c642b8faf077"
      },
      "source": [
        "from torch_geometric.datasets import TUDataset\n",
        "dataset = TUDataset(root='data/TU', name='PROTEINS', use_node_attr=True)"
      ],
      "execution_count": null,
      "outputs": [
        {
          "output_type": "stream",
          "name": "stderr",
          "text": [
            "Downloading https://www.chrsmrrs.com/graphkerneldatasets/PROTEINS.zip\n",
            "Extracting data/TU/PROTEINS/PROTEINS.zip\n",
            "Processing...\n",
            "Done!\n"
          ]
        }
      ]
    },
    {
      "cell_type": "markdown",
      "metadata": {
        "id": "_oF1gyKPXiz-"
      },
      "source": [
        "#### Question 11 (0.25 pt)\n",
        "\n",
        "Unlike in the previous part, where we selected the first element returned by the loading function, note that here we get all the elements returned by `TUDataset()`. `dataset` is an interable object, that has some similar behaviors as a Python list: you can call `len()` on it, and you can takes slices from it.\n",
        "\n",
        "Each element in `dataset` is a `Data` object containing a graph that represents a protein. This is the same type of object that we used in the previous part to store the Cora citation network.\n",
        "\n",
        "Knowing this, answer the following:\n",
        "\n",
        "- How many proteins (graphs) are there in `dataset`?\n",
        "- Take any protein from `dataset`. How many nodes and edges does it contain? What is its label? How many features does each node have?"
      ]
    },
    {
      "cell_type": "code",
      "metadata": {
        "id": "ZNPsnXXbbHHe",
        "colab": {
          "base_uri": "https://localhost:8080/"
        },
        "outputId": "cf0e5d67-263a-4855-c201-19e62a0f836d"
      },
      "source": [
        "# Your answer here\n",
        "num_proteins = dataset.len()\n",
        "print(\"the number of proteins are: \", num_proteins)\n",
        "protein = dataset[0]\n",
        "print(\"Pick one of those proteins\\nthe number of nodes is:\",protein.num_nodes,\n",
        "      \"\\nthe number of edges is:\",protein.num_edges)"
      ],
      "execution_count": null,
      "outputs": [
        {
          "output_type": "stream",
          "name": "stdout",
          "text": [
            "the number of proteins are:  1113\n",
            "Pick one of those proteins\n",
            "the number of nodes is: 42 \n",
            "the number of edges is: 162\n"
          ]
        }
      ]
    },
    {
      "cell_type": "markdown",
      "metadata": {
        "id": "kHSklBZXpKpR"
      },
      "source": [
        "#### Question 12 (0.5 pt)\n",
        "\n",
        "To properly train and evaluate our model, we need training, validation, and test splits.\n",
        "\n",
        "For reproducibility purposes, we generate a random tensor of indices for you. Use it to extract the three splits from `dataset`.\n",
        "\n",
        "For training, take 80% of the indices (starting from the first element in `indices`), then the following 10% for validation, and the remaining 10% for testing. You can use the indices to index `dataset`.\n",
        "\n",
        "Call the resulting splits `train_dataset`, `valid_dataset`, and `test_dataset`."
      ]
    },
    {
      "cell_type": "code",
      "metadata": {
        "id": "ttY4d1GInn08"
      },
      "source": [
        "# Don't erase the following three lines\n",
        "import torch\n",
        "torch.random.manual_seed(0)\n",
        "indices = torch.randperm(len(dataset))"
      ],
      "execution_count": null,
      "outputs": []
    },
    {
      "cell_type": "code",
      "source": [
        "# Your answer here\n",
        "# split dataset\n",
        "num_train = round(len(dataset)*0.8)\n",
        "num_val = round(len(dataset)*0.1)\n",
        "\n",
        "train_dataset = dataset[indices[0:num_train]]\n",
        "valid_dataset = dataset[indices[num_train:num_train+num_val]]\n",
        "test_dataset = dataset[indices[num_train+num_val:]]\n"
      ],
      "metadata": {
        "id": "64F5h64Tv-ud"
      },
      "execution_count": null,
      "outputs": []
    },
    {
      "cell_type": "code",
      "source": [
        "# Remove 4 problem Graphs for the Train Data and 1 for Valid (Caused NaNs):\n",
        "train_mask = torch.ones(len(train_dataset))\n",
        "for i in [33, 263, 543, 752]:\n",
        "  train_mask[i] = 0\n",
        "train_dataset = train_dataset[train_mask == 1]\n",
        "\n",
        "val_mask = torch.ones(len(valid_dataset))\n",
        "val_mask[60] = 0\n",
        "valid_dataset = valid_dataset[val_mask == 1]"
      ],
      "metadata": {
        "id": "vf98F9DjwfFy"
      },
      "execution_count": null,
      "outputs": []
    },
    {
      "cell_type": "markdown",
      "metadata": {
        "id": "rDJbB4CQqsfp"
      },
      "source": [
        "### Working with a batch of graphs\n",
        "\n",
        "When working with the Cora dataset, you used the information in `data.edge_index` to build the sparse normalized adjacency matrix $\\hat{A}$ that is required by the GCN. We could do something similar here: for each graph, we build $\\hat{A}$, and pass it to the GCN. However, if the number of graphs is big, this can really slow down training.\n",
        "\n",
        "To avoid this, we will resort to a very useful trick that also allows us to reuse the same GCN you implemented previously. The trick makes it possible to do a forward pass through the GCN for multiple, disconnected graphs at the same time (instead of only one), much like when you train with mini-batches for other kinds of data.\n",
        "\n",
        "Let's first revisit the propagation rule of the GCN, $Z = \\hat{A}XW$, with an illustration (we have omitted the cells of $X$ and $W$ for clarity):\n",
        "\n",
        "<img src=\"https://raw.githubusercontent.com/dfdazac/dlvu-a5/main/img/02-gcn-forward.png\">\n",
        "\n",
        "If we have multiple graphs, we can still use the same propagation rule, if we\n",
        "\n",
        "- Set $\\hat{A}$ to be a block diagonal matrix, where the blocks are the different adjacency matrices of the graphs\n",
        "- Concatenate the feature matrices along the first dimension\n",
        "\n",
        "This is illustrated in the following figure, for a batch of 3 graphs. Note that the elements outside of the blocks are zero.\n",
        "\n",
        "<img src=\"https://raw.githubusercontent.com/dfdazac/dlvu-a5/main/img/02-gcn-batch-forward.png\">\n",
        "\n",
        "The resulting adjacency matrix $\\hat{A}_B$ can also be built as a sparse matrix, and once we have it together with the concatenated matrix of features, the computation of the graph convolution is exactly the same as before. Note how this trick also allows us to process graphs with different sizes and structures.\n"
      ]
    },
    {
      "cell_type": "markdown",
      "metadata": {
        "id": "0DLPJ62b2mQ6"
      },
      "source": [
        "#### Question 13 (0.5 pt)\n",
        "\n",
        "\n",
        "Just as the citation network, the graphs in each of the datasets you created in Question 12 also have an `edge_index` attribute, which can be used to compute the normalized adjacency matrix $\\hat{A}$, for each graph.\n",
        "\n",
        "Reusing your code for Questions 3 and 5, define a function `get_a_norm()` that takes as input an element of a dataset (e.g. `train_dataset[0]`), and returns a `scipy.sparse` matrix containing $\\hat{A}$.\n",
        "\n",
        "Note that an element of a dataset has properties like `num_edges`, `num_nodes`, etc. which you can use here."
      ]
    },
    {
      "cell_type": "code",
      "metadata": {
        "id": "4nvPX2GB8oXp"
      },
      "source": [
        "# Your answer here\n",
        "def get_a_norm(graph):\n",
        "  adjacency_matrix = np.zeros((graph.num_nodes, graph.num_nodes), dtype = int)\n",
        "\n",
        "  for i in range(len(graph.edge_index[0])):\n",
        "    row = graph.edge_index[0][i]\n",
        "    col = graph.edge_index[1][i]\n",
        "    adjacency_matrix[row][col] = 1\n",
        "\n",
        "  coo = coo_matrix(adjacency_matrix)\n",
        "  degrees = coo.sum(axis=1).flatten().A\n",
        "  diag_matrix = diags(degrees, list(range(len(degrees))))\n",
        "  a_tilde = coo + identity(coo.shape[0])\n",
        "  A_hat = (diag_matrix.power(-0.5) @ a_tilde @ diag_matrix.power(-0.5)).tocoo()\n",
        "\n",
        "  return A_hat"
      ],
      "execution_count": null,
      "outputs": []
    },
    {
      "cell_type": "code",
      "source": [
        "graph = train_dataset[0]\n",
        "adjacency_matrix = np.zeros((graph.num_nodes, graph.num_nodes), dtype = int)\n",
        "\n",
        "for i in range(len(graph.edge_index[0])):\n",
        "  row = graph.edge_index[0][i]\n",
        "  col = graph.edge_index[1][i]\n",
        "  adjacency_matrix[row][col] = 1\n",
        "\n",
        "type(graph)"
      ],
      "metadata": {
        "colab": {
          "base_uri": "https://localhost:8080/"
        },
        "id": "0YQOY3Ol3eBv",
        "outputId": "a045bc6b-5469-420d-b82e-b87a29ddf389"
      },
      "execution_count": null,
      "outputs": [
        {
          "output_type": "execute_result",
          "data": {
            "text/plain": [
              "torch_geometric.data.data.Data"
            ]
          },
          "metadata": {},
          "execution_count": 32
        }
      ]
    },
    {
      "cell_type": "markdown",
      "metadata": {
        "id": "cBrmYBY3AfhW"
      },
      "source": [
        "#### Question 14 (1 pt)\n",
        "\n",
        "To prepare the batch of graphs, we need to collect multiple adjacency matrices, feature matrices, and labels.\n",
        "\n",
        "When using the trick described in the last figure, we see that we have to keep track of when a graph starts and when it ends, so that we can later differentiate the outputs due to $X^{(0)}$, $X^{(1)}$, etc. To achieve this, we will additionally collect a 1D array of batch indices, one for each $X^{(i)}$.\n",
        "\n",
        "The 1D array has as many elements as rows in $X^{(i)}$, and it is filled with the value $i$ (the position of $X^{(i)}$ in the batch):\n",
        "\n",
        "<img src=\"https://raw.githubusercontent.com/dfdazac/dlvu-a5/main/img/03-batch-indices.png\">\n",
        "\n",
        "We will later concatenate all the 1D arrays along the first dimension, just as we will do with all the $X^{(i)}$.\n",
        "\n",
        "Define a function `prepare_graphs_batch()` that takes as input a dataset (e.g. `train_dataset`), and does the following\n",
        "\n",
        "- Create four empty lists:\n",
        "  - `adj_matrices`\n",
        "  - `feature_matrices`\n",
        "  - `batch_indices`\n",
        "  - `labels`\n",
        "- Iterate over the input dataset, getting one graph at a time. At each step, use your function from Question 13 to append the adjacency matrix to `adj_matrices`, append the matrix of input features to `feature_matrices`, create the array of batch indices (as explained above) and append it to `batch_indices`, and append the label of the graph to `labels`. **Make sure to convert the label to float**.\n",
        "- Once the loop is over, use `scipy.sparse.block_diag()` to build the block diagonal matrix $\\hat{A}_B$. Convert it to the COO format, and then use your answer to Question 6 to turn it into a sparse PyTorch tensor.\n",
        "- Use `torch.cat()` to concatenate the tensors in `feature_matrices` along the first dimension. Do this also for `batch_indices` and `labels`.\n",
        "- Return the 4 tensors computed in the previous two items."
      ]
    },
    {
      "cell_type": "code",
      "metadata": {
        "id": "SsQ0-JjSqFgD"
      },
      "source": [
        "import numpy as np\n",
        "from scipy.sparse import block_diag\n",
        "\n",
        "# Your answer here\n",
        "def prepare_graphs_batch(train_dataset):\n",
        "  adj_matricies = []\n",
        "  feature_matrices = []\n",
        "  batch_indices = []\n",
        "  labels = []\n",
        "\n",
        "  for i, data in enumerate(train_dataset):\n",
        "    adj_matricies.append(get_a_norm(data))\n",
        "    feature_matrices.append(data.x)\n",
        "    labels.append(data.y.float())\n",
        "    batch_indices.append(torch.zeros(len(data.x), dtype = torch.int64)+i)\n",
        "\n",
        "  a_hat_B = block_diag(adj_matricies).tocoo()\n",
        "  indices = np.vstack((a_hat_B.row, a_hat_B.col))\n",
        "  a_hat_B_torch = torch.sparse_coo_tensor(indices, a_hat_B.data, dtype=torch.float)\n",
        "\n",
        "  feat_mat_cat = torch.cat(feature_matrices, axis = 0)\n",
        "  batch_indices_cat = torch.cat(batch_indices, axis = 0)\n",
        "  labels_cat = torch.cat(labels, axis = 0)\n",
        "\n",
        "  return a_hat_B_torch, feat_mat_cat, batch_indices_cat, labels_cat"
      ],
      "execution_count": null,
      "outputs": []
    },
    {
      "cell_type": "markdown",
      "metadata": {
        "id": "i73P_EU0MSPX"
      },
      "source": [
        "Once your answer for the previous question is ready, you can run the next cell to prepare all the required information, for the train, validation, and test splits."
      ]
    },
    {
      "cell_type": "code",
      "metadata": {
        "id": "Iol5FxJGMmAU"
      },
      "source": [
        "train_a_norm, train_features, train_batch_idx, train_labels = prepare_graphs_batch(train_dataset)\n",
        "valid_a_norm, valid_features, valid_batch_idx, valid_labels = prepare_graphs_batch(valid_dataset)\n",
        "test_a_norm, test_features, test_batch_idx, test_labels = prepare_graphs_batch(test_dataset)"
      ],
      "execution_count": null,
      "outputs": []
    },
    {
      "cell_type": "code",
      "source": [
        "train_a_norm"
      ],
      "metadata": {
        "colab": {
          "base_uri": "https://localhost:8080/"
        },
        "id": "aYrtONVqF7Qr",
        "outputId": "14a39d0c-067e-4795-ac24-eb43f7da1435"
      },
      "execution_count": null,
      "outputs": [
        {
          "output_type": "execute_result",
          "data": {
            "text/plain": [
              "tensor(indices=tensor([[    0,     0,     0,  ..., 33906, 33906, 33906],\n",
              "                       [    0,     1,     2,  ..., 33903, 33905, 33906]]),\n",
              "       values=tensor([0.2500, 0.2500, 0.2500,  ..., 0.2582, 0.3333, 0.3333]),\n",
              "       size=(33907, 33907), nnz=160575, layout=torch.sparse_coo)"
            ]
          },
          "metadata": {},
          "execution_count": 36
        }
      ]
    },
    {
      "cell_type": "markdown",
      "metadata": {
        "id": "R6q-JU87NClh"
      },
      "source": [
        "### GCNs for graph classification\n",
        "\n",
        "We now have all the ingredients to pass a batch of graphs to a GCN. However, for each graph in the batch, the output $Z^{(i)}$ contains one row for each node in the graph. If the goal is to do classification at the graph level, we have to *pool* these vectors to then compute the required logits for classification.\n",
        "\n",
        "This operation is similar as how pooling works in a CNN. We could consider taking the mean of the vectors, the sum, or use max-pooling. The difference with respect to CNNs is that in our case, we have a batch of graphs, each potentially with a different number of nodes.\n",
        "\n",
        "To implement this specific pooling, we can use the scatter operation in the `torch_scatter` library, which comes when installing PyG. We will use it, together with the tensor of batch indices from the previous two questions, to pool the outputs of the GCN for each graph, into a single vector:\n",
        "\n",
        "<img src=\"https://raw.githubusercontent.com/dfdazac/dlvu-a5/main/img/04-scatter.png\">\n",
        "\n",
        "You can check more details in the [documentation](https://pytorch-scatter.readthedocs.io/en/latest/functions/scatter.html)."
      ]
    },
    {
      "cell_type": "markdown",
      "metadata": {
        "id": "QY87DX1uRhnY"
      },
      "source": [
        "#### Question 15 (1.0 pt)\n",
        "\n",
        "Implement a `GraphClassifier` module using PyTorch.\n",
        "\n",
        "- The constructor should take as arguments the number of input features, the hidden dimension, and the number of classes.\n",
        "- The model should contain a instance of the `GCN` module (as you implemented it in Question 8). Use the same value for the hidden dimension and the number of output features (recall that your `GCN` module from Question 8 has two GCN layers).\n",
        "- The model should also contain a `torch.nn.Linear` layer, with the hidden dimension as the input features, and the number of classes as the output.\n",
        "- The forward method receives the concatenated matrix of features, the sparse block diagonal adjacency matrix, and the batch indices (the latter is used when calling `scatter`).\n",
        "- Use the following architecture in the forward pass:\n",
        "  - GCN $\\to$ ReLU $\\to$ scatter (max) $\\to$ Linear.\n",
        "\n",
        "The output of the forward should be a 1D tensor (you might need to call `squeeze` to get rid of extra dimensions) containing the logits for all graphs in the batch, for the binary classification task."
      ]
    },
    {
      "cell_type": "code",
      "metadata": {
        "id": "750WraywwYDH"
      },
      "source": [
        "# Your answer here\n",
        "from torch_scatter import scatter\n",
        "\n",
        "class GraphClassifier(torch.nn.Module):\n",
        "  def __init__(self, in_features, hidden_size, num_classes):\n",
        "    super().__init__()\n",
        "    self.gcn = GCN(in_features, hidden_size, hidden_size)\n",
        "    self.relu = torch.nn.ReLU()\n",
        "    self.fc1 = torch.nn.Linear(hidden_size, num_classes)\n",
        "    self.sigmoid = torch.nn.Sigmoid()\n",
        "\n",
        "  def forward(self, X, adj_mat, batch_indices):\n",
        "    assert not torch.isnan(X).any()\n",
        "    assert not torch.isnan(adj_mat).any()\n",
        "    x = self.gcn(X, adj_mat)\n",
        "    assert not torch.isnan(x).any()\n",
        "    x = self.relu(x)\n",
        "    x = scatter(x, batch_indices, 0)\n",
        "    x = self.fc1(x)\n",
        "    output = torch.squeeze(x)\n",
        "    return output\n"
      ],
      "execution_count": null,
      "outputs": []
    },
    {
      "cell_type": "markdown",
      "metadata": {
        "id": "h0QHnn6dV87J"
      },
      "source": []
    },
    {
      "cell_type": "markdown",
      "metadata": {
        "id": "C1PHy-_vTjgh"
      },
      "source": [
        "#### Question 16 (1.5 pt)\n",
        "\n",
        "Implement a training loop for the graph classifier. Use the data from Question 14 to train and evaluate the model.\n",
        "\n",
        "We encourage you to use a GPU in this section for faster training. Note that if you change the runtime at this point, you must re-execute several of the cells above, including the ones that install PyG.\n",
        "\n",
        "- Instantiate a classifier with 32 as the hidden dimension\n",
        "- Use Adam with a learning rate of 1e-3.\n",
        "- Use `torch.nn.BCEWithLogitsLoss` as the loss function.\n",
        "- Train for 5,000 epochs. Once training is done, plot the loss curve and the accuracy in the validation set. Then report the accuracy in the test set.\n",
        "\n",
        "**Note:** the logits from the output of the classifier come from a linear layer. To compute actual predictions for the calculation of the accuracy, pass the logits through `torch.sigmoid()`, and set the predicted values to 1 whenever they are greater than 0.5, and to 0 otherwise.\n",
        "\n",
        "You should get an accuracy equal to or higher than 70% in the validation and test sets. Can you beat the [state-of-the-art](https://paperswithcode.com/sota/graph-classification-on-proteins)? Feel free to modify your architecture and experiment with it.\n",
        "\n",
        "Discuss what you observe during training and your results."
      ]
    },
    {
      "cell_type": "code",
      "metadata": {
        "id": "9DbGAs8W2Xja"
      },
      "source": [
        "# If your runtime is GPU-enabled, use .to(device) to move the model\n",
        "# and all the relevant tensors to the GPU. You have to move tensors back to CPU\n",
        "# when computing metrics like accuracy, using .cpu().\n",
        "device = torch.device('cuda') if torch.cuda.is_available() else 'cpu'\n",
        "\n",
        "# Your answer here\n",
        "# Helper function\n",
        "def sigmoid(x):\n",
        "  return 1 / (1 + torch.exp(-x))\n",
        "\n",
        "num_classes = 1\n",
        "hidden_size = 32\n",
        "in_features = train_features.size()[1]\n",
        "\n",
        "n_epochs = 5000\n",
        "\n",
        "gclassifier = GraphClassifier(in_features, hidden_size, num_classes)\n",
        "optimizer = torch.optim.Adam(gclassifier.parameters(), lr=1e-3)\n",
        "loss_fn = torch.nn.BCEWithLogitsLoss()\n",
        "\n",
        "\n",
        "# Move to GPU\n",
        "gclassifier.to(device)\n",
        "train_a_norm = train_a_norm.to(device)\n",
        "train_features = train_features.to(device)\n",
        "train_batch_idx = train_batch_idx.to(device)\n",
        "train_labels = train_labels.to(device)\n",
        "\n",
        "val_a_norm = valid_a_norm.to(device)\n",
        "val_features = valid_features.to(device)\n",
        "val_batch_idx = valid_batch_idx.to(device)\n",
        "val_labels = valid_labels.to(device)\n",
        "\n",
        "test_a_norm = test_a_norm.to(device)\n",
        "test_features = test_features.to(device)\n",
        "test_batch_idx = test_batch_idx.to(device)\n",
        "test_labels = test_labels.to(device)\n",
        "\n",
        "all_losses = []\n",
        "val_accuracies = []\n"
      ],
      "execution_count": null,
      "outputs": []
    },
    {
      "cell_type": "code",
      "source": [
        "# Run Training Loop\n",
        "for epoch in range(n_epochs):\n",
        "\n",
        "  running_loss = 0\n",
        "\n",
        "  # Zero gradients for every batch\n",
        "  optimizer.zero_grad()\n",
        "\n",
        "  # Make predictions for this batch\n",
        "  pred = gclassifier.forward(train_features, train_a_norm, train_batch_idx.type(torch.int64))\n",
        "\n",
        "  # Compute the loss and its gradients\n",
        "  loss = loss_fn(pred, train_labels)\n",
        "  loss.backward()\n",
        "\n",
        "  # Adjust learning weights\n",
        "  optimizer.step()\n",
        "  running_loss += loss.item()\n",
        "  all_losses.append(running_loss)\n",
        "\n",
        "  if epoch % 250 == 0:\n",
        "    # Calculate Train accuracy\n",
        "    correct = (sigmoid(pred).round() == train_labels).sum() # Working only with sigmoid helper function\n",
        "    accuracy = correct / len(train_labels)\n",
        "\n",
        "    # Calculate Val accuracy\n",
        "    pred_val = gclassifier.forward(val_features, val_a_norm, val_batch_idx.type(torch.int64))\n",
        "    val_correct = (sigmoid(pred_val).round() == val_labels).sum() # Working only with sigmoid helper function\n",
        "    val_accuracy = val_correct / len(val_labels)\n",
        "    val_accuracies.append(val_accuracy)\n",
        "    print(f'Epoch {epoch} - Running loss: {running_loss}, Train Accuracy: {accuracy}, Val Accuracy: {val_accuracy}')\n",
        "\n"
      ],
      "metadata": {
        "colab": {
          "base_uri": "https://localhost:8080/"
        },
        "id": "6Ri6DPI6IGwa",
        "outputId": "f74a1610-e359-43e8-9b7c-b12e60c9a290"
      },
      "execution_count": null,
      "outputs": [
        {
          "output_type": "stream",
          "name": "stdout",
          "text": [
            "Epoch 0 - Running loss: 27.414794921875, Train Accuracy: 0.40744921565055847, Val Accuracy: 0.37272727489471436\n",
            "Epoch 250 - Running loss: 0.5674681663513184, Train Accuracy: 0.6772009134292603, Val Accuracy: 0.6818181872367859\n",
            "Epoch 500 - Running loss: 0.5590936541557312, Train Accuracy: 0.6952595710754395, Val Accuracy: 0.7181817889213562\n",
            "Epoch 750 - Running loss: 0.5502176284790039, Train Accuracy: 0.715575635433197, Val Accuracy: 0.7090908885002136\n",
            "Epoch 1000 - Running loss: 0.5440157055854797, Train Accuracy: 0.7302483320236206, Val Accuracy: 0.7181817889213562\n",
            "Epoch 1250 - Running loss: 0.538854718208313, Train Accuracy: 0.7426636815071106, Val Accuracy: 0.7363636493682861\n",
            "Epoch 1500 - Running loss: 0.5326347947120667, Train Accuracy: 0.752821683883667, Val Accuracy: 0.7545454502105713\n",
            "Epoch 1750 - Running loss: 0.5286418795585632, Train Accuracy: 0.7539503574371338, Val Accuracy: 0.7636363506317139\n",
            "Epoch 2000 - Running loss: 0.5257536172866821, Train Accuracy: 0.7607223391532898, Val Accuracy: 0.7727272510528564\n",
            "Epoch 2250 - Running loss: 0.5199453234672546, Train Accuracy: 0.7550790309906006, Val Accuracy: 0.800000011920929\n",
            "Epoch 2500 - Running loss: 0.5171305537223816, Train Accuracy: 0.7505643367767334, Val Accuracy: 0.7818182110786438\n",
            "Epoch 2750 - Running loss: 0.5161375403404236, Train Accuracy: 0.7539503574371338, Val Accuracy: 0.800000011920929\n",
            "Epoch 3000 - Running loss: 0.5154030323028564, Train Accuracy: 0.7550790309906006, Val Accuracy: 0.800000011920929\n",
            "Epoch 3250 - Running loss: 0.5145187377929688, Train Accuracy: 0.7573363184928894, Val Accuracy: 0.7818182110786438\n",
            "Epoch 3500 - Running loss: 0.5122331976890564, Train Accuracy: 0.7584649920463562, Val Accuracy: 0.7636363506317139\n",
            "Epoch 3750 - Running loss: 0.5102355480194092, Train Accuracy: 0.7641083598136902, Val Accuracy: 0.7818182110786438\n",
            "Epoch 4000 - Running loss: 0.5085939168930054, Train Accuracy: 0.7663657069206238, Val Accuracy: 0.7909091114997864\n",
            "Epoch 4250 - Running loss: 0.5061468482017517, Train Accuracy: 0.7697516679763794, Val Accuracy: 0.7818182110786438\n",
            "Epoch 4500 - Running loss: 0.5043965578079224, Train Accuracy: 0.7697516679763794, Val Accuracy: 0.7909091114997864\n",
            "Epoch 4750 - Running loss: 0.5030451416969299, Train Accuracy: 0.7708803415298462, Val Accuracy: 0.7818182110786438\n"
          ]
        }
      ]
    },
    {
      "cell_type": "code",
      "source": [
        "import matplotlib.pyplot as plt\n",
        "val_accuracies_list = [tensor.item() for tensor in val_accuracies]\n",
        "\n",
        "\n",
        "plt.figure(figsize=(12,6))\n",
        "plt.plot(list(range(len(val_accuracies_list))), val_accuracies_list, label='Validation Accuracy')\n",
        "# plt.plot(list(range(len(all_losses))), all_losses, label='Average Epoch Loss')\n",
        "plt.title('Validation accuracy per epoch')\n",
        "plt.title(\"\\nValidation Accuracy over training steps for 100 epochs\\n\", size = 22)\n",
        "plt.ylabel(\"\\nCross-Entropy Loss\\n\", size = 18)\n",
        "plt.xlabel(\"\\nEpochs\\n\", size = 18)\n",
        "plt.xticks(size = 18, rotation = 0)\n",
        "plt.yticks(size = 18)\n",
        "plt.annotate(f\"Test Accuracy: {round(test_accuracy.item(),6)}\", xy = (40,3), size = 16)\n",
        "plt.legend()\n",
        "plt.show()"
      ],
      "metadata": {
        "id": "5luZ63hSNqf0",
        "colab": {
          "base_uri": "https://localhost:8080/",
          "height": 736
        },
        "outputId": "61da91d0-0b95-4ce6-d7a4-fc622b3a68d4"
      },
      "execution_count": null,
      "outputs": [
        {
          "output_type": "display_data",
          "data": {
            "text/plain": [
              "<Figure size 1200x600 with 1 Axes>"
            ],
            "image/png": "[encoded data removed]"
          },
          "metadata": {}
        }
      ]
    },
    {
      "cell_type": "code",
      "source": [
        "import matplotlib.pyplot as plt\n",
        "\n",
        "plt.figure(figsize=(12,6))\n",
        "# plt.plot(list(range(len(val_accuracies_list))), val_accuracies_list, label='Validation Accuracy')\n",
        "plt.plot(list(range(len(all_losses))), all_losses, label='Average Epoch Loss')\n",
        "plt.title('Average training loss per epoch')\n",
        "plt.title(\"\\n GCN Loss over training steps for 100 epochs\\n\", size = 22)\n",
        "plt.ylabel(\"\\nCross-Entropy Loss\\n\", size = 18)\n",
        "plt.xlabel(\"\\nEpochs\\n\", size = 18)\n",
        "plt.xticks(size = 18, rotation = 0)\n",
        "plt.yticks(size = 18)\n",
        "plt.annotate(f\"Test Accuracy: {round(test_accuracy.item(),6)}\", xy = (40,3), size = 16)\n",
        "plt.legend()\n",
        "plt.show()"
      ],
      "metadata": {
        "colab": {
          "base_uri": "https://localhost:8080/",
          "height": 736
        },
        "id": "jpo6GUKwYKfc",
        "outputId": "3a840f66-3e22-452b-8723-359478c05661"
      },
      "execution_count": null,
      "outputs": [
        {
          "output_type": "display_data",
          "data": {
            "text/plain": [
              "<Figure size 1200x600 with 1 Axes>"
            ],
            "image/png": "[encoded data removed]"
          },
          "metadata": {}
        }
      ]
    },
    {
      "cell_type": "code",
      "source": [
        "# final test accuracy\n",
        "num_classes = int(max(train_labels))\n",
        "hidden_size = 64\n",
        "in_features = train_features.size()[1]\n",
        "layers = 2\n",
        "lr = 0.001\n",
        "norm = False\n",
        "\n",
        "n_epochs = 5000\n",
        "\n",
        "gclassifier = GraphClassifier(in_features, hidden_size, num_classes)\n",
        "optimizer = torch.optim.Adam(gclassifier.parameters(), lr=lr)\n",
        "loss_fn = torch.nn.BCEWithLogitsLoss()\n",
        "\n",
        "# Move to GPU\n",
        "gclassifier.to(device)\n",
        "train_a_norm = train_a_norm.to(device)\n",
        "train_features = train_features.to(device)\n",
        "train_batch_idx = train_batch_idx.to(device)\n",
        "train_labels = train_labels.to(device)\n",
        "test_a_norm = test_a_norm.to(device)\n",
        "test_features = test_features.to(device)\n",
        "test_batch_idx = test_batch_idx.to(device)\n",
        "test_labels = test_labels.to(device)\n",
        "train_losses = []\n",
        "test_losses = []\n",
        "\n",
        "# Run Training Loop\n",
        "for epoch in range(n_epochs):\n",
        "\n",
        "  # Zero gradients for every batch\n",
        "  optimizer.zero_grad()\n",
        "\n",
        "  # Make predictions for this batch\n",
        "  pred = gclassifier.forward(train_features, train_a_norm, train_batch_idx.type(torch.int64))\n",
        "\n",
        "  # Compute the loss and its gradients\n",
        "  loss = loss_fn(pred, train_labels)\n",
        "  loss.backward()\n",
        "\n",
        "  # Adjust learning weights\n",
        "  optimizer.step()\n",
        "  train_losses.append(loss.item())\n",
        "\n",
        "  # Calculate Train accuracy\n",
        "  correct = (sigmoid(pred).round() == train_labels).sum()\n",
        "  accuracy = correct / len(train_labels)\n",
        "\n",
        "  # Calculate Test accuracy\n",
        "  pred_test = gclassifier.forward(test_features, test_a_norm, test_batch_idx.type(torch.int64))\n",
        "  test_loss = loss_fn(pred_test, test_labels)\n",
        "  test_correct = (sigmoid(pred_test).round() == test_labels).sum()\n",
        "  test_accuracy = test_correct / len(test_labels)\n",
        "  test_losses.append(test_loss.item())\n",
        "\n",
        "print(f'GCN Layers: {layers}, Hidden dim: {hidden_size}, LR: {lr}, Normalize: {norm} \\n- Running loss: {round(loss.item(),7)}, Train Accuracy: {round(accuracy.item(),5)}, Test Accuracy: {round(test_accuracy.item(),5)} \\n')\n"
      ],
      "metadata": {
        "id": "d6wuhBgxbuOM",
        "colab": {
          "base_uri": "https://localhost:8080/"
        },
        "outputId": "91820a46-fda8-4196-9e34-8457e34c7442"
      },
      "execution_count": 46,
      "outputs": [
        {
          "output_type": "stream",
          "name": "stdout",
          "text": [
            "GCN Layers: 2, Hidden dim: 64, LR: 0.001, Normalize: False \n",
            "- Running loss: 0.5032626, Train Accuracy: 0.75846, Test Accuracy: 0.73214 \n",
            "\n"
          ]
        }
      ]
    },
    {
      "cell_type": "code",
      "source": [
        "plt.figure(figsize=(20,10))\n",
        "plt.plot(list(range(len(train_losses))), train_losses, label='Train Loss')\n",
        "plt.plot(list(range(len(test_losses))), test_losses, label='Test Loss')\n",
        "plt.title('Average training loss and validation accuracy per epoch')\n",
        "plt.title(\"\\n GCN Loss and Validation Accuracy over training steps for 100 epochs\\n\", size = 22)\n",
        "plt.ylabel(\"\\n BCE with Logits Loss\\n\", size = 18)\n",
        "plt.xlabel(\"\\n Epochs\\n\", size = 18)\n",
        "plt.xticks(size = 18, rotation = 45)\n",
        "plt.yticks(size = 18)\n",
        "plt.ylim(0,3)\n",
        "plt.annotate(f\"Train Accuracy: {round(accuracy.item(),5)} \\n Test Accuracy: {round(test_accuracy.item(),5)}\", xy = (2000, 1), size = 16)\n",
        "plt.legend()\n",
        "plt.show()"
      ],
      "metadata": {
        "id": "sgjdBKzFHKxB",
        "colab": {
          "base_uri": "https://localhost:8080/",
          "height": 692
        },
        "outputId": "41f64c40-d4bd-47fa-8ed7-ecd9ad4ff883"
      },
      "execution_count": 45,
      "outputs": [
        {
          "output_type": "display_data",
          "data": {
            "text/plain": [
              "<Figure size 2000x1000 with 1 Axes>"
            ],
            "image/png": "[encoded data removed]"
          },
          "metadata": {}
        }
      ]
    },
    {
      "cell_type": "markdown",
      "metadata": {
        "id": "MvmAfDNMcnKD"
      },
      "source": [
        "## The end\n",
        "\n",
        "If you have made it all the way here successfully, congratulations! 🎉\n",
        "\n",
        "You have implemented your own GCN and tested it on a node classification task, and a more challenging classification task over multiple graphs.\n",
        "\n",
        "We hope you can use this knowledge to apply GCNs not only to the tasks described here, but other applications where data can be modeled as a graph.\n",
        "\n",
        "If you are interested in applying graph neural networks to larger graphs, or try newer architectures, you can dive deeper into [PyTorch Geometric](https://pytorch-geometric.readthedocs.io/en/latest/), a library with fast implementations for a wide range of architectures. It also comes with custom code that takes care of aspects that you dealt with manually for this assignment, like a more efficient implementation of the adjacency matrix multiplication via message-passing methods, and Data Loaders that relieve you from having to build block diagonal sparse matrices.\n",
        "\n",
        "You can also check the [Deep Graph Library](https://docs.dgl.ai/) another powerful library for deep learning on graphs which also integrates with other backends like TensorFlow."
      ]
    },
    {
      "cell_type": "markdown",
      "metadata": {
        "id": "l7QhyAMms8-L"
      },
      "source": [
        "# Grading (10pt)"
      ]
    },
    {
      "cell_type": "markdown",
      "metadata": {
        "id": "juIdxXhos-mV"
      },
      "source": [
        "- Question 1: 0.25pt\n",
        "- Question 2: 0.25pt\n",
        "- Question 3: 0.5pt\n",
        "- Question 4: 0.25pt\n",
        "- Question 5: 0.5pt\n",
        "- Question 6: 0.5pt\n",
        "- Question 7: 0.5pt\n",
        "- Question 8: 0.5pt\n",
        "- Question 9: 1.5pt\n",
        "- Question 10: 0.5pt\n",
        "- Question 11: 0.25pt\n",
        "- Question 12: 0.5pt\n",
        "- Question 13: 0.5pt\n",
        "- Question 14: 1pt\n",
        "- Question 15: 1pt\n",
        "- Question 16: 1.5pt"
      ]
    }
  ]
}